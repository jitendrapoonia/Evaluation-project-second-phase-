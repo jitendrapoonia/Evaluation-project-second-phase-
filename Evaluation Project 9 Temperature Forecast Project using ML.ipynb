{
 "cells": [
  {
   "cell_type": "markdown",
   "metadata": {},
   "source": [
    "## <b>Problem Statement:</b>\n",
    "\n",
    "<b><em>Data Set Information:\n",
    "\n",
    "This data is for the purpose of bias correction of next-day maximum and minimum air temperatures forecast of the LDAPS model operated by the Korea Meteorological Administration over Seoul, South Korea. This data consists of summer data from 2013 to 2017. The input data is largely composed of the LDAPS model's next-day forecast data, in-situ maximum and minimum temperatures of present-day, and geographic auxiliary variables. There are two outputs (i.e. next-day maximum and minimum air temperatures) in this data. Hindcast validation was conducted for the period from 2015 to 2017</em></b>"
   ]
  },
  {
   "cell_type": "markdown",
   "metadata": {},
   "source": [
    "#### Attribute Information:\n",
    "(Local Data Assimilation and Prediction System - (LDAPS) Model)\n",
    "\n",
    "For more information, read [Cho et al, 2020].\n",
    "1. station - used weather station number: 1 to 25\n",
    "2. Date - Present day: yyyy-mm-dd ('2013-06-30' to '2017-08-30')\n",
    "3. Present_Tmax - Maximum air temperature between 0 and 21 h on the present day (Â°C): 20 to 37.6\n",
    "4. Present_Tmin - Minimum air temperature between 0 and 21 h on the present day (Â°C): 11.3 to 29.9\n",
    "5. LDAPS_RHmin - LDAPS model forecast of next-day minimum relative humidity (%): 19.8 to 98.5\n",
    "6. LDAPS_RHmax - LDAPS model forecast of next-day maximum relative humidity (%): 58.9 to 100\n",
    "7. LDAPS_Tmax_lapse - LDAPS model forecast of next-day maximum air temperature applied lapse rate (Â°C): 17.6 to 38.5\n",
    "8. LDAPS_Tmin_lapse - LDAPS model forecast of next-day minimum air temperature applied lapse rate (Â°C): 14.3 to 29.6\n",
    "9. LDAPS_WS - LDAPS model forecast of next-day average wind speed (m/s): 2.9 to 21.9\n",
    "10. LDAPS_LH - LDAPS model forecast of next-day average latent heat flux (W/m2): -13.6 to 213.4\n",
    "11. LDAPS_CC1 - LDAPS model forecast of next-day 1st 6-hour split average cloud cover (0-5 h) (%): 0 to 0.97\n",
    "12. LDAPS_CC2 - LDAPS model forecast of next-day 2nd 6-hour split average cloud cover (6-11 h) (%): 0 to 0.97\n",
    "13. LDAPS_CC3 - LDAPS model forecast of next-day 3rd 6-hour split average cloud cover (12-17 h) (%): 0 to 0.98\n",
    "14. LDAPS_CC4 - LDAPS model forecast of next-day 4th 6-hour split average cloud cover (18-23 h) (%): 0 to 0.97\n",
    "15. LDAPS_PPT1 - LDAPS model forecast of next-day 1st 6-hour split average precipitation (0-5 h) (%): 0 to 23.7\n",
    "16. LDAPS_PPT2 - LDAPS model forecast of next-day 2nd 6-hour split average precipitation (6-11 h) (%): 0 to 21.6\n",
    "17. LDAPS_PPT3 - LDAPS model forecast of next-day 3rd 6-hour split average precipitation (12-17 h) (%): 0 to 15.8\n",
    "18. LDAPS_PPT4 - LDAPS model forecast of next-day 4th 6-hour split average precipitation (18-23 h) (%): 0 to 16.7\n",
    "19. lat - Latitude (Â°): 37.456 to 37.645\n",
    "20. lon - Longitude (Â°): 126.826 to 127.135\n",
    "21. DEM - Elevation (m): 12.4 to 212.3\n",
    "22. Slope - Slope (Â°): 0.1 to 5.2\n",
    "23. Solar radiation - Daily incoming solar radiation (wh/m2): 4329.5 to 5992.9\n",
    "24. Next_Tmax - The next-day maximum air temperature (Â°C): 17.4 to 38.9\n",
    "25. Next_Tmin - The next-day minimum air temperature (Â°C): 11.3 to 29.8T"
   ]
  },
  {
   "cell_type": "markdown",
   "metadata": {},
   "source": [
    "#### Please note that there are two target variables here: \n",
    "<b>\n",
    "1) Next_Tmax: Next day maximum temperature\n",
    "\n",
    "2) Next_Tmin: Next day  minimum temperature</b>"
   ]
  },
  {
   "cell_type": "markdown",
   "metadata": {},
   "source": [
    "<b>Note: Use the link below to download the dataset. \n",
    "\n",
    "Downlaod Files:</b>\n",
    "•https://github.com/FlipRoboTechnologies/ML_-Datasets/blob/main/Temperature%20Forecast/temperature.csv"
   ]
  },
  {
   "cell_type": "markdown",
   "metadata": {},
   "source": [
    "- <b> Importing require library for performing EDA, Data Wrangling and data cleaning</b>"
   ]
  },
  {
   "cell_type": "code",
   "execution_count": 6,
   "metadata": {},
   "outputs": [],
   "source": [
    "import pandas as pd # for data wrangling purpose\n",
    "import numpy as np # Basic computation library\n",
    "import seaborn as sns # For Visualization \n",
    "import matplotlib.pyplot as plt # ploting package\n",
    "%matplotlib inline\n",
    "import warnings # Filtering warnings\n",
    "warnings.filterwarnings('ignore')"
   ]
  },
  {
   "cell_type": "code",
   "execution_count": 14,
   "metadata": {},
   "outputs": [],
   "source": [
    "# Importing Temperature Forecast dataset Csv file using pandas"
   ]
  },
  {
   "cell_type": "code",
   "execution_count": 7,
   "metadata": {},
   "outputs": [],
   "source": [
    "df=pd.read_csv(r\"C:\\Users\\vkihm\\Downloads\\temperature.csv\")"
   ]
  },
  {
   "cell_type": "code",
   "execution_count": 8,
   "metadata": {},
   "outputs": [
    {
     "name": "stdout",
     "output_type": "stream",
     "text": [
      "No of Rows: 7752\n",
      "No of Columns: 25\n"
     ]
    },
    {
     "data": {
      "text/html": [
       "<div>\n",
       "<style scoped>\n",
       "    .dataframe tbody tr th:only-of-type {\n",
       "        vertical-align: middle;\n",
       "    }\n",
       "\n",
       "    .dataframe tbody tr th {\n",
       "        vertical-align: top;\n",
       "    }\n",
       "\n",
       "    .dataframe thead th {\n",
       "        text-align: right;\n",
       "    }\n",
       "</style>\n",
       "<table border=\"1\" class=\"dataframe\">\n",
       "  <thead>\n",
       "    <tr style=\"text-align: right;\">\n",
       "      <th></th>\n",
       "      <th>station</th>\n",
       "      <th>Date</th>\n",
       "      <th>Present_Tmax</th>\n",
       "      <th>Present_Tmin</th>\n",
       "      <th>LDAPS_RHmin</th>\n",
       "      <th>LDAPS_RHmax</th>\n",
       "      <th>LDAPS_Tmax_lapse</th>\n",
       "      <th>LDAPS_Tmin_lapse</th>\n",
       "      <th>LDAPS_WS</th>\n",
       "      <th>LDAPS_LH</th>\n",
       "      <th>LDAPS_CC1</th>\n",
       "      <th>LDAPS_CC2</th>\n",
       "      <th>LDAPS_CC3</th>\n",
       "      <th>LDAPS_CC4</th>\n",
       "      <th>LDAPS_PPT1</th>\n",
       "      <th>LDAPS_PPT2</th>\n",
       "      <th>LDAPS_PPT3</th>\n",
       "      <th>LDAPS_PPT4</th>\n",
       "      <th>lat</th>\n",
       "      <th>lon</th>\n",
       "      <th>DEM</th>\n",
       "      <th>Slope</th>\n",
       "      <th>Solar radiation</th>\n",
       "      <th>Next_Tmax</th>\n",
       "      <th>Next_Tmin</th>\n",
       "    </tr>\n",
       "  </thead>\n",
       "  <tbody>\n",
       "    <tr>\n",
       "      <th>0</th>\n",
       "      <td>1.0</td>\n",
       "      <td>30-06-2013</td>\n",
       "      <td>28.7</td>\n",
       "      <td>21.4</td>\n",
       "      <td>58.255688</td>\n",
       "      <td>91.116364</td>\n",
       "      <td>28.074101</td>\n",
       "      <td>23.006936</td>\n",
       "      <td>6.818887</td>\n",
       "      <td>69.451805</td>\n",
       "      <td>0.233947</td>\n",
       "      <td>0.203896</td>\n",
       "      <td>0.161697</td>\n",
       "      <td>0.130928</td>\n",
       "      <td>0.0</td>\n",
       "      <td>0.0</td>\n",
       "      <td>0.0</td>\n",
       "      <td>0.0</td>\n",
       "      <td>37.6046</td>\n",
       "      <td>126.991</td>\n",
       "      <td>212.3350</td>\n",
       "      <td>2.7850</td>\n",
       "      <td>5992.895996</td>\n",
       "      <td>29.1</td>\n",
       "      <td>21.2</td>\n",
       "    </tr>\n",
       "    <tr>\n",
       "      <th>1</th>\n",
       "      <td>2.0</td>\n",
       "      <td>30-06-2013</td>\n",
       "      <td>31.9</td>\n",
       "      <td>21.6</td>\n",
       "      <td>52.263397</td>\n",
       "      <td>90.604721</td>\n",
       "      <td>29.850689</td>\n",
       "      <td>24.035009</td>\n",
       "      <td>5.691890</td>\n",
       "      <td>51.937448</td>\n",
       "      <td>0.225508</td>\n",
       "      <td>0.251771</td>\n",
       "      <td>0.159444</td>\n",
       "      <td>0.127727</td>\n",
       "      <td>0.0</td>\n",
       "      <td>0.0</td>\n",
       "      <td>0.0</td>\n",
       "      <td>0.0</td>\n",
       "      <td>37.6046</td>\n",
       "      <td>127.032</td>\n",
       "      <td>44.7624</td>\n",
       "      <td>0.5141</td>\n",
       "      <td>5869.312500</td>\n",
       "      <td>30.5</td>\n",
       "      <td>22.5</td>\n",
       "    </tr>\n",
       "    <tr>\n",
       "      <th>2</th>\n",
       "      <td>3.0</td>\n",
       "      <td>30-06-2013</td>\n",
       "      <td>31.6</td>\n",
       "      <td>23.3</td>\n",
       "      <td>48.690479</td>\n",
       "      <td>83.973587</td>\n",
       "      <td>30.091292</td>\n",
       "      <td>24.565633</td>\n",
       "      <td>6.138224</td>\n",
       "      <td>20.573050</td>\n",
       "      <td>0.209344</td>\n",
       "      <td>0.257469</td>\n",
       "      <td>0.204091</td>\n",
       "      <td>0.142125</td>\n",
       "      <td>0.0</td>\n",
       "      <td>0.0</td>\n",
       "      <td>0.0</td>\n",
       "      <td>0.0</td>\n",
       "      <td>37.5776</td>\n",
       "      <td>127.058</td>\n",
       "      <td>33.3068</td>\n",
       "      <td>0.2661</td>\n",
       "      <td>5863.555664</td>\n",
       "      <td>31.1</td>\n",
       "      <td>23.9</td>\n",
       "    </tr>\n",
       "    <tr>\n",
       "      <th>3</th>\n",
       "      <td>4.0</td>\n",
       "      <td>30-06-2013</td>\n",
       "      <td>32.0</td>\n",
       "      <td>23.4</td>\n",
       "      <td>58.239788</td>\n",
       "      <td>96.483688</td>\n",
       "      <td>29.704629</td>\n",
       "      <td>23.326177</td>\n",
       "      <td>5.650050</td>\n",
       "      <td>65.727144</td>\n",
       "      <td>0.216372</td>\n",
       "      <td>0.226002</td>\n",
       "      <td>0.161157</td>\n",
       "      <td>0.134249</td>\n",
       "      <td>0.0</td>\n",
       "      <td>0.0</td>\n",
       "      <td>0.0</td>\n",
       "      <td>0.0</td>\n",
       "      <td>37.6450</td>\n",
       "      <td>127.022</td>\n",
       "      <td>45.7160</td>\n",
       "      <td>2.5348</td>\n",
       "      <td>5856.964844</td>\n",
       "      <td>31.7</td>\n",
       "      <td>24.3</td>\n",
       "    </tr>\n",
       "    <tr>\n",
       "      <th>4</th>\n",
       "      <td>5.0</td>\n",
       "      <td>30-06-2013</td>\n",
       "      <td>31.4</td>\n",
       "      <td>21.9</td>\n",
       "      <td>56.174095</td>\n",
       "      <td>90.155128</td>\n",
       "      <td>29.113934</td>\n",
       "      <td>23.486480</td>\n",
       "      <td>5.735004</td>\n",
       "      <td>107.965535</td>\n",
       "      <td>0.151407</td>\n",
       "      <td>0.249995</td>\n",
       "      <td>0.178892</td>\n",
       "      <td>0.170021</td>\n",
       "      <td>0.0</td>\n",
       "      <td>0.0</td>\n",
       "      <td>0.0</td>\n",
       "      <td>0.0</td>\n",
       "      <td>37.5507</td>\n",
       "      <td>127.135</td>\n",
       "      <td>35.0380</td>\n",
       "      <td>0.5055</td>\n",
       "      <td>5859.552246</td>\n",
       "      <td>31.2</td>\n",
       "      <td>22.5</td>\n",
       "    </tr>\n",
       "  </tbody>\n",
       "</table>\n",
       "</div>"
      ],
      "text/plain": [
       "   station        Date  Present_Tmax  Present_Tmin  LDAPS_RHmin  LDAPS_RHmax  \\\n",
       "0      1.0  30-06-2013          28.7          21.4    58.255688    91.116364   \n",
       "1      2.0  30-06-2013          31.9          21.6    52.263397    90.604721   \n",
       "2      3.0  30-06-2013          31.6          23.3    48.690479    83.973587   \n",
       "3      4.0  30-06-2013          32.0          23.4    58.239788    96.483688   \n",
       "4      5.0  30-06-2013          31.4          21.9    56.174095    90.155128   \n",
       "\n",
       "   LDAPS_Tmax_lapse  LDAPS_Tmin_lapse  LDAPS_WS    LDAPS_LH  LDAPS_CC1  \\\n",
       "0         28.074101         23.006936  6.818887   69.451805   0.233947   \n",
       "1         29.850689         24.035009  5.691890   51.937448   0.225508   \n",
       "2         30.091292         24.565633  6.138224   20.573050   0.209344   \n",
       "3         29.704629         23.326177  5.650050   65.727144   0.216372   \n",
       "4         29.113934         23.486480  5.735004  107.965535   0.151407   \n",
       "\n",
       "   LDAPS_CC2  LDAPS_CC3  LDAPS_CC4  LDAPS_PPT1  LDAPS_PPT2  LDAPS_PPT3  \\\n",
       "0   0.203896   0.161697   0.130928         0.0         0.0         0.0   \n",
       "1   0.251771   0.159444   0.127727         0.0         0.0         0.0   \n",
       "2   0.257469   0.204091   0.142125         0.0         0.0         0.0   \n",
       "3   0.226002   0.161157   0.134249         0.0         0.0         0.0   \n",
       "4   0.249995   0.178892   0.170021         0.0         0.0         0.0   \n",
       "\n",
       "   LDAPS_PPT4      lat      lon       DEM   Slope  Solar radiation  Next_Tmax  \\\n",
       "0         0.0  37.6046  126.991  212.3350  2.7850      5992.895996       29.1   \n",
       "1         0.0  37.6046  127.032   44.7624  0.5141      5869.312500       30.5   \n",
       "2         0.0  37.5776  127.058   33.3068  0.2661      5863.555664       31.1   \n",
       "3         0.0  37.6450  127.022   45.7160  2.5348      5856.964844       31.7   \n",
       "4         0.0  37.5507  127.135   35.0380  0.5055      5859.552246       31.2   \n",
       "\n",
       "   Next_Tmin  \n",
       "0       21.2  \n",
       "1       22.5  \n",
       "2       23.9  \n",
       "3       24.3  \n",
       "4       22.5  "
      ]
     },
     "execution_count": 8,
     "metadata": {},
     "output_type": "execute_result"
    }
   ],
   "source": [
    "print('No of Rows:',df.shape[0])\n",
    "print('No of Columns:',df.shape[1])\n",
    "pd.set_option('display.max_columns', None) # This will enable us to see truncated columns\n",
    "df.head()"
   ]
  },
  {
   "cell_type": "code",
   "execution_count": 17,
   "metadata": {},
   "outputs": [
    {
     "data": {
      "text/plain": [
       "{float64: ['station', 'Present_Tmax', 'Present_Tmin', 'LDAPS_RHmin', 'LDAPS_RHmax', 'LDAPS_Tmax_lapse', 'LDAPS_Tmin_lapse', 'LDAPS_WS', 'LDAPS_LH', 'LDAPS_CC1', 'LDAPS_CC2', 'LDAPS_CC3', 'LDAPS_CC4', 'LDAPS_PPT1', 'LDAPS_PPT2', 'LDAPS_PPT3', 'LDAPS_PPT4', 'lat', 'lon', 'DEM', 'Slope', 'Solar radiation', 'Next_Tmax', 'Next_Tmin'], object: ['Date']}"
      ]
     },
     "execution_count": 17,
     "metadata": {},
     "output_type": "execute_result"
    }
   ],
   "source": [
    "# Sort columns by datatypes\n",
    "df.columns.to_series().groupby(df.dtypes).groups"
   ]
  },
  {
   "cell_type": "markdown",
   "metadata": {},
   "source": [
    "#### Comment :\n",
    "- All variable are Numerical in nature.\n",
    "- Next_Tmax and Next_Tmin are Target Variable.\n",
    "- This dataset contain 7752 Rows and 25 Columns."
   ]
  },
  {
   "cell_type": "markdown",
   "metadata": {},
   "source": [
    "# Statistical Analysis"
   ]
  },
  {
   "cell_type": "markdown",
   "metadata": {},
   "source": [
    "<b> Since dataset is large, Let check for any entry which is repeated or duplicated in dataset. </b>"
   ]
  },
  {
   "cell_type": "code",
   "execution_count": 18,
   "metadata": {},
   "outputs": [
    {
     "data": {
      "text/plain": [
       "0"
      ]
     },
     "execution_count": 18,
     "metadata": {},
     "output_type": "execute_result"
    }
   ],
   "source": [
    "df.duplicated().sum() # This will check if any duplicate entry or duplicate row with same value exist"
   ]
  },
  {
   "cell_type": "markdown",
   "metadata": {},
   "source": [
    "<b> Let check if any whitespace, 'NA' or '-' exist in dataset. </b>"
   ]
  },
  {
   "cell_type": "code",
   "execution_count": 19,
   "metadata": {},
   "outputs": [
    {
     "data": {
      "text/plain": [
       "False"
      ]
     },
     "execution_count": 19,
     "metadata": {},
     "output_type": "execute_result"
    }
   ],
   "source": [
    "df.isin([' ','NA','-']).sum().any()"
   ]
  },
  {
   "cell_type": "markdown",
   "metadata": {},
   "source": [
    "#### Comment:\n",
    "1. No Duplicate entry in dataset.\n",
    "2. No whitespace, NA, '-' exist in dataset."
   ]
  },
  {
   "cell_type": "markdown",
   "metadata": {},
   "source": [
    "## Missing value check "
   ]
  },
  {
   "cell_type": "code",
   "execution_count": 20,
   "metadata": {},
   "outputs": [
    {
     "name": "stdout",
     "output_type": "stream",
     "text": [
      "                  Missing Values  % Missing data\n",
      "LDAPS_CC3                     75        0.967492\n",
      "LDAPS_PPT4                    75        0.967492\n",
      "LDAPS_PPT2                    75        0.967492\n",
      "LDAPS_PPT1                    75        0.967492\n",
      "LDAPS_CC4                     75        0.967492\n",
      "LDAPS_CC2                     75        0.967492\n",
      "LDAPS_CC1                     75        0.967492\n",
      "LDAPS_LH                      75        0.967492\n",
      "LDAPS_WS                      75        0.967492\n",
      "LDAPS_Tmin_lapse              75        0.967492\n",
      "LDAPS_Tmax_lapse              75        0.967492\n",
      "LDAPS_RHmax                   75        0.967492\n",
      "LDAPS_RHmin                   75        0.967492\n",
      "LDAPS_PPT3                    75        0.967492\n",
      "Present_Tmin                  70        0.902993\n",
      "Present_Tmax                  70        0.902993\n",
      "Next_Tmax                     27        0.348297\n",
      "Next_Tmin                     27        0.348297\n",
      "Date                           2        0.025800\n",
      "station                        2        0.025800\n",
      "lat                            0        0.000000\n",
      "lon                            0        0.000000\n",
      "DEM                            0        0.000000\n",
      "Slope                          0        0.000000\n",
      "Solar radiation                0        0.000000\n"
     ]
    }
   ],
   "source": [
    "#Finding what percentage of data is missing from the dataset\n",
    "missing_values = df.isnull().sum().sort_values(ascending = False)\n",
    "percentage_missing_values =(missing_values/len(df))*100\n",
    "print(pd.concat([missing_values, percentage_missing_values], axis =1, keys =['Missing Values', '% Missing data']))"
   ]
  },
  {
   "cell_type": "markdown",
   "metadata": {},
   "source": [
    "<b> As missing values present are less than 1%. So We can directly drop these missing values.</b>"
   ]
  },
  {
   "cell_type": "code",
   "execution_count": 21,
   "metadata": {},
   "outputs": [
    {
     "name": "stdout",
     "output_type": "stream",
     "text": [
      "We had 7752 Rows and 25 Columns before dropping null values.\n",
      "We have 7588 Rows and 25 Columns after dropping null values.\n"
     ]
    }
   ],
   "source": [
    "print(\"We had {} Rows and {} Columns before dropping null values.\".format(df.shape[0], df.shape[1]))\n",
    "df.dropna(inplace=True)\n",
    "print(\"We have {} Rows and {} Columns after dropping null values.\".format(df.shape[0], df.shape[1]))"
   ]
  },
  {
   "cell_type": "markdown",
   "metadata": {},
   "source": [
    "#### Comment :\n",
    "<b> Finally, No Missing Value is Present.\n",
    "\n",
    "We are Now Yes To Go Further !!!</b>"
   ]
  },
  {
   "cell_type": "code",
   "execution_count": 22,
   "metadata": {},
   "outputs": [
    {
     "data": {
      "text/html": [
       "<div>\n",
       "<style scoped>\n",
       "    .dataframe tbody tr th:only-of-type {\n",
       "        vertical-align: middle;\n",
       "    }\n",
       "\n",
       "    .dataframe tbody tr th {\n",
       "        vertical-align: top;\n",
       "    }\n",
       "\n",
       "    .dataframe thead th {\n",
       "        text-align: right;\n",
       "    }\n",
       "</style>\n",
       "<table border=\"1\" class=\"dataframe\">\n",
       "  <thead>\n",
       "    <tr style=\"text-align: right;\">\n",
       "      <th></th>\n",
       "      <th>station</th>\n",
       "      <th>Date</th>\n",
       "      <th>Present_Tmax</th>\n",
       "      <th>Present_Tmin</th>\n",
       "      <th>LDAPS_RHmin</th>\n",
       "      <th>LDAPS_RHmax</th>\n",
       "      <th>LDAPS_Tmax_lapse</th>\n",
       "      <th>LDAPS_Tmin_lapse</th>\n",
       "      <th>LDAPS_WS</th>\n",
       "      <th>LDAPS_LH</th>\n",
       "      <th>LDAPS_CC1</th>\n",
       "      <th>LDAPS_CC2</th>\n",
       "      <th>LDAPS_CC3</th>\n",
       "      <th>LDAPS_CC4</th>\n",
       "      <th>LDAPS_PPT1</th>\n",
       "      <th>LDAPS_PPT2</th>\n",
       "      <th>LDAPS_PPT3</th>\n",
       "      <th>LDAPS_PPT4</th>\n",
       "      <th>lat</th>\n",
       "      <th>lon</th>\n",
       "      <th>DEM</th>\n",
       "      <th>Slope</th>\n",
       "      <th>Solar radiation</th>\n",
       "      <th>Next_Tmax</th>\n",
       "      <th>Next_Tmin</th>\n",
       "      <th>Day</th>\n",
       "      <th>Month</th>\n",
       "      <th>Year</th>\n",
       "    </tr>\n",
       "  </thead>\n",
       "  <tbody>\n",
       "    <tr>\n",
       "      <th>0</th>\n",
       "      <td>1.0</td>\n",
       "      <td>2013-06-30</td>\n",
       "      <td>28.7</td>\n",
       "      <td>21.4</td>\n",
       "      <td>58.255688</td>\n",
       "      <td>91.116364</td>\n",
       "      <td>28.074101</td>\n",
       "      <td>23.006936</td>\n",
       "      <td>6.818887</td>\n",
       "      <td>69.451805</td>\n",
       "      <td>0.233947</td>\n",
       "      <td>0.203896</td>\n",
       "      <td>0.161697</td>\n",
       "      <td>0.130928</td>\n",
       "      <td>0.0</td>\n",
       "      <td>0.0</td>\n",
       "      <td>0.0</td>\n",
       "      <td>0.0</td>\n",
       "      <td>37.6046</td>\n",
       "      <td>126.991</td>\n",
       "      <td>212.3350</td>\n",
       "      <td>2.7850</td>\n",
       "      <td>5992.895996</td>\n",
       "      <td>29.1</td>\n",
       "      <td>21.2</td>\n",
       "      <td>30</td>\n",
       "      <td>6</td>\n",
       "      <td>2013</td>\n",
       "    </tr>\n",
       "    <tr>\n",
       "      <th>1</th>\n",
       "      <td>2.0</td>\n",
       "      <td>2013-06-30</td>\n",
       "      <td>31.9</td>\n",
       "      <td>21.6</td>\n",
       "      <td>52.263397</td>\n",
       "      <td>90.604721</td>\n",
       "      <td>29.850689</td>\n",
       "      <td>24.035009</td>\n",
       "      <td>5.691890</td>\n",
       "      <td>51.937448</td>\n",
       "      <td>0.225508</td>\n",
       "      <td>0.251771</td>\n",
       "      <td>0.159444</td>\n",
       "      <td>0.127727</td>\n",
       "      <td>0.0</td>\n",
       "      <td>0.0</td>\n",
       "      <td>0.0</td>\n",
       "      <td>0.0</td>\n",
       "      <td>37.6046</td>\n",
       "      <td>127.032</td>\n",
       "      <td>44.7624</td>\n",
       "      <td>0.5141</td>\n",
       "      <td>5869.312500</td>\n",
       "      <td>30.5</td>\n",
       "      <td>22.5</td>\n",
       "      <td>30</td>\n",
       "      <td>6</td>\n",
       "      <td>2013</td>\n",
       "    </tr>\n",
       "    <tr>\n",
       "      <th>2</th>\n",
       "      <td>3.0</td>\n",
       "      <td>2013-06-30</td>\n",
       "      <td>31.6</td>\n",
       "      <td>23.3</td>\n",
       "      <td>48.690479</td>\n",
       "      <td>83.973587</td>\n",
       "      <td>30.091292</td>\n",
       "      <td>24.565633</td>\n",
       "      <td>6.138224</td>\n",
       "      <td>20.573050</td>\n",
       "      <td>0.209344</td>\n",
       "      <td>0.257469</td>\n",
       "      <td>0.204091</td>\n",
       "      <td>0.142125</td>\n",
       "      <td>0.0</td>\n",
       "      <td>0.0</td>\n",
       "      <td>0.0</td>\n",
       "      <td>0.0</td>\n",
       "      <td>37.5776</td>\n",
       "      <td>127.058</td>\n",
       "      <td>33.3068</td>\n",
       "      <td>0.2661</td>\n",
       "      <td>5863.555664</td>\n",
       "      <td>31.1</td>\n",
       "      <td>23.9</td>\n",
       "      <td>30</td>\n",
       "      <td>6</td>\n",
       "      <td>2013</td>\n",
       "    </tr>\n",
       "    <tr>\n",
       "      <th>3</th>\n",
       "      <td>4.0</td>\n",
       "      <td>2013-06-30</td>\n",
       "      <td>32.0</td>\n",
       "      <td>23.4</td>\n",
       "      <td>58.239788</td>\n",
       "      <td>96.483688</td>\n",
       "      <td>29.704629</td>\n",
       "      <td>23.326177</td>\n",
       "      <td>5.650050</td>\n",
       "      <td>65.727144</td>\n",
       "      <td>0.216372</td>\n",
       "      <td>0.226002</td>\n",
       "      <td>0.161157</td>\n",
       "      <td>0.134249</td>\n",
       "      <td>0.0</td>\n",
       "      <td>0.0</td>\n",
       "      <td>0.0</td>\n",
       "      <td>0.0</td>\n",
       "      <td>37.6450</td>\n",
       "      <td>127.022</td>\n",
       "      <td>45.7160</td>\n",
       "      <td>2.5348</td>\n",
       "      <td>5856.964844</td>\n",
       "      <td>31.7</td>\n",
       "      <td>24.3</td>\n",
       "      <td>30</td>\n",
       "      <td>6</td>\n",
       "      <td>2013</td>\n",
       "    </tr>\n",
       "    <tr>\n",
       "      <th>4</th>\n",
       "      <td>5.0</td>\n",
       "      <td>2013-06-30</td>\n",
       "      <td>31.4</td>\n",
       "      <td>21.9</td>\n",
       "      <td>56.174095</td>\n",
       "      <td>90.155128</td>\n",
       "      <td>29.113934</td>\n",
       "      <td>23.486480</td>\n",
       "      <td>5.735004</td>\n",
       "      <td>107.965535</td>\n",
       "      <td>0.151407</td>\n",
       "      <td>0.249995</td>\n",
       "      <td>0.178892</td>\n",
       "      <td>0.170021</td>\n",
       "      <td>0.0</td>\n",
       "      <td>0.0</td>\n",
       "      <td>0.0</td>\n",
       "      <td>0.0</td>\n",
       "      <td>37.5507</td>\n",
       "      <td>127.135</td>\n",
       "      <td>35.0380</td>\n",
       "      <td>0.5055</td>\n",
       "      <td>5859.552246</td>\n",
       "      <td>31.2</td>\n",
       "      <td>22.5</td>\n",
       "      <td>30</td>\n",
       "      <td>6</td>\n",
       "      <td>2013</td>\n",
       "    </tr>\n",
       "  </tbody>\n",
       "</table>\n",
       "</div>"
      ],
      "text/plain": [
       "   station       Date  Present_Tmax  Present_Tmin  LDAPS_RHmin  LDAPS_RHmax  \\\n",
       "0      1.0 2013-06-30          28.7          21.4    58.255688    91.116364   \n",
       "1      2.0 2013-06-30          31.9          21.6    52.263397    90.604721   \n",
       "2      3.0 2013-06-30          31.6          23.3    48.690479    83.973587   \n",
       "3      4.0 2013-06-30          32.0          23.4    58.239788    96.483688   \n",
       "4      5.0 2013-06-30          31.4          21.9    56.174095    90.155128   \n",
       "\n",
       "   LDAPS_Tmax_lapse  LDAPS_Tmin_lapse  LDAPS_WS    LDAPS_LH  LDAPS_CC1  \\\n",
       "0         28.074101         23.006936  6.818887   69.451805   0.233947   \n",
       "1         29.850689         24.035009  5.691890   51.937448   0.225508   \n",
       "2         30.091292         24.565633  6.138224   20.573050   0.209344   \n",
       "3         29.704629         23.326177  5.650050   65.727144   0.216372   \n",
       "4         29.113934         23.486480  5.735004  107.965535   0.151407   \n",
       "\n",
       "   LDAPS_CC2  LDAPS_CC3  LDAPS_CC4  LDAPS_PPT1  LDAPS_PPT2  LDAPS_PPT3  \\\n",
       "0   0.203896   0.161697   0.130928         0.0         0.0         0.0   \n",
       "1   0.251771   0.159444   0.127727         0.0         0.0         0.0   \n",
       "2   0.257469   0.204091   0.142125         0.0         0.0         0.0   \n",
       "3   0.226002   0.161157   0.134249         0.0         0.0         0.0   \n",
       "4   0.249995   0.178892   0.170021         0.0         0.0         0.0   \n",
       "\n",
       "   LDAPS_PPT4      lat      lon       DEM   Slope  Solar radiation  Next_Tmax  \\\n",
       "0         0.0  37.6046  126.991  212.3350  2.7850      5992.895996       29.1   \n",
       "1         0.0  37.6046  127.032   44.7624  0.5141      5869.312500       30.5   \n",
       "2         0.0  37.5776  127.058   33.3068  0.2661      5863.555664       31.1   \n",
       "3         0.0  37.6450  127.022   45.7160  2.5348      5856.964844       31.7   \n",
       "4         0.0  37.5507  127.135   35.0380  0.5055      5859.552246       31.2   \n",
       "\n",
       "   Next_Tmin  Day  Month  Year  \n",
       "0       21.2   30      6  2013  \n",
       "1       22.5   30      6  2013  \n",
       "2       23.9   30      6  2013  \n",
       "3       24.3   30      6  2013  \n",
       "4       22.5   30      6  2013  "
      ]
     },
     "execution_count": 22,
     "metadata": {},
     "output_type": "execute_result"
    }
   ],
   "source": [
    "# Converting Date datatypes and spliting date into date, month and year.\n",
    "df['Date']=pd.to_datetime(df['Date'])\n",
    "df['Day']=df['Date'].apply(lambda x:x.day)\n",
    "df['Month']=df['Date'].apply(lambda x:x.month)\n",
    "df['Year']=df['Date'].apply(lambda x:x.year)\n",
    "df.head()"
   ]
  },
  {
   "cell_type": "markdown",
   "metadata": {},
   "source": [
    "Now to gain more insight in data, we will create additional columns with location of station in terms of city and respective state."
   ]
  },
  {
   "cell_type": "code",
   "execution_count": 23,
   "metadata": {},
   "outputs": [
    {
     "ename": "ModuleNotFoundError",
     "evalue": "No module named 'reverse_geocoder'",
     "output_type": "error",
     "traceback": [
      "\u001b[1;31m---------------------------------------------------------------------------\u001b[0m",
      "\u001b[1;31mModuleNotFoundError\u001b[0m                       Traceback (most recent call last)",
      "Cell \u001b[1;32mIn[23], line 2\u001b[0m\n\u001b[0;32m      1\u001b[0m \u001b[38;5;66;03m# Importing Reverse geocoder\u001b[39;00m\n\u001b[1;32m----> 2\u001b[0m \u001b[38;5;28;01mimport\u001b[39;00m \u001b[38;5;21;01mreverse_geocoder\u001b[39;00m \u001b[38;5;28;01mas\u001b[39;00m \u001b[38;5;21;01mrg\u001b[39;00m\n\u001b[0;32m      3\u001b[0m \u001b[38;5;28;01mimport\u001b[39;00m \u001b[38;5;21;01mpprint\u001b[39;00m\n",
      "\u001b[1;31mModuleNotFoundError\u001b[0m: No module named 'reverse_geocoder'"
     ]
    }
   ],
   "source": [
    "# Importing Reverse geocoder\n",
    "import reverse_geocoder as rg\n",
    "import pprint"
   ]
  },
  {
   "cell_type": "code",
   "execution_count": null,
   "metadata": {},
   "outputs": [],
   "source": [
    "geodata=[]\n",
    "def reverse_geocoordinates(coordinates):\n",
    "    result = rg.search(coordinates)\n",
    "    return (result)\n",
    "\n",
    "if __name__==\"__main__\":\n",
    "    coordinates = list(zip(df['lat'], df['lon']))\n",
    "    data = reverse_geocoordinates(coordinates)\n",
    "    geodata.append(data)\n",
    "# Creating dataframe for geographical name\n",
    "geo_names = pd.DataFrame(geodata).transpose()"
   ]
  },
  {
   "cell_type": "markdown",
   "metadata": {},
   "source": [
    "<b> We have gather state and city name as per corresponding to it's latitude and longitude available. Now it is time incorporate state and city columns in our dataset.</b>"
   ]
  },
  {
   "cell_type": "code",
   "execution_count": null,
   "metadata": {},
   "outputs": [],
   "source": [
    "df['State']= geo_names[0].apply(lambda x:x.get('admin1'))\n",
    "df['City']=geo_names[0].apply(lambda x:x.get('name'))"
   ]
  },
  {
   "cell_type": "code",
   "execution_count": null,
   "metadata": {
    "scrolled": false
   },
   "outputs": [
    {
     "data": {
      "text/html": [
       "<div>\n",
       "<style scoped>\n",
       "    .dataframe tbody tr th:only-of-type {\n",
       "        vertical-align: middle;\n",
       "    }\n",
       "\n",
       "    .dataframe tbody tr th {\n",
       "        vertical-align: top;\n",
       "    }\n",
       "\n",
       "    .dataframe thead th {\n",
       "        text-align: right;\n",
       "    }\n",
       "</style>\n",
       "<table border=\"1\" class=\"dataframe\">\n",
       "  <thead>\n",
       "    <tr style=\"text-align: right;\">\n",
       "      <th></th>\n",
       "      <th>station</th>\n",
       "      <th>Date</th>\n",
       "      <th>Present_Tmax</th>\n",
       "      <th>Present_Tmin</th>\n",
       "      <th>LDAPS_RHmin</th>\n",
       "      <th>LDAPS_RHmax</th>\n",
       "      <th>LDAPS_Tmax_lapse</th>\n",
       "      <th>LDAPS_Tmin_lapse</th>\n",
       "      <th>LDAPS_WS</th>\n",
       "      <th>LDAPS_LH</th>\n",
       "      <th>LDAPS_CC1</th>\n",
       "      <th>LDAPS_CC2</th>\n",
       "      <th>LDAPS_CC3</th>\n",
       "      <th>LDAPS_CC4</th>\n",
       "      <th>LDAPS_PPT1</th>\n",
       "      <th>LDAPS_PPT2</th>\n",
       "      <th>LDAPS_PPT3</th>\n",
       "      <th>LDAPS_PPT4</th>\n",
       "      <th>lat</th>\n",
       "      <th>lon</th>\n",
       "      <th>DEM</th>\n",
       "      <th>Slope</th>\n",
       "      <th>Solar radiation</th>\n",
       "      <th>Next_Tmax</th>\n",
       "      <th>Next_Tmin</th>\n",
       "      <th>Day</th>\n",
       "      <th>Month</th>\n",
       "      <th>Year</th>\n",
       "    </tr>\n",
       "  </thead>\n",
       "  <tbody>\n",
       "    <tr>\n",
       "      <th>0</th>\n",
       "      <td>1.0</td>\n",
       "      <td>2013-06-30</td>\n",
       "      <td>28.7</td>\n",
       "      <td>21.4</td>\n",
       "      <td>58.255688</td>\n",
       "      <td>91.116364</td>\n",
       "      <td>28.074101</td>\n",
       "      <td>23.006936</td>\n",
       "      <td>6.818887</td>\n",
       "      <td>69.451805</td>\n",
       "      <td>0.233947</td>\n",
       "      <td>0.203896</td>\n",
       "      <td>0.161697</td>\n",
       "      <td>0.130928</td>\n",
       "      <td>0.0</td>\n",
       "      <td>0.0</td>\n",
       "      <td>0.0</td>\n",
       "      <td>0.0</td>\n",
       "      <td>37.6046</td>\n",
       "      <td>126.991</td>\n",
       "      <td>212.3350</td>\n",
       "      <td>2.7850</td>\n",
       "      <td>5992.895996</td>\n",
       "      <td>29.1</td>\n",
       "      <td>21.2</td>\n",
       "      <td>30</td>\n",
       "      <td>6</td>\n",
       "      <td>2013</td>\n",
       "    </tr>\n",
       "    <tr>\n",
       "      <th>1</th>\n",
       "      <td>2.0</td>\n",
       "      <td>2013-06-30</td>\n",
       "      <td>31.9</td>\n",
       "      <td>21.6</td>\n",
       "      <td>52.263397</td>\n",
       "      <td>90.604721</td>\n",
       "      <td>29.850689</td>\n",
       "      <td>24.035009</td>\n",
       "      <td>5.691890</td>\n",
       "      <td>51.937448</td>\n",
       "      <td>0.225508</td>\n",
       "      <td>0.251771</td>\n",
       "      <td>0.159444</td>\n",
       "      <td>0.127727</td>\n",
       "      <td>0.0</td>\n",
       "      <td>0.0</td>\n",
       "      <td>0.0</td>\n",
       "      <td>0.0</td>\n",
       "      <td>37.6046</td>\n",
       "      <td>127.032</td>\n",
       "      <td>44.7624</td>\n",
       "      <td>0.5141</td>\n",
       "      <td>5869.312500</td>\n",
       "      <td>30.5</td>\n",
       "      <td>22.5</td>\n",
       "      <td>30</td>\n",
       "      <td>6</td>\n",
       "      <td>2013</td>\n",
       "    </tr>\n",
       "    <tr>\n",
       "      <th>2</th>\n",
       "      <td>3.0</td>\n",
       "      <td>2013-06-30</td>\n",
       "      <td>31.6</td>\n",
       "      <td>23.3</td>\n",
       "      <td>48.690479</td>\n",
       "      <td>83.973587</td>\n",
       "      <td>30.091292</td>\n",
       "      <td>24.565633</td>\n",
       "      <td>6.138224</td>\n",
       "      <td>20.573050</td>\n",
       "      <td>0.209344</td>\n",
       "      <td>0.257469</td>\n",
       "      <td>0.204091</td>\n",
       "      <td>0.142125</td>\n",
       "      <td>0.0</td>\n",
       "      <td>0.0</td>\n",
       "      <td>0.0</td>\n",
       "      <td>0.0</td>\n",
       "      <td>37.5776</td>\n",
       "      <td>127.058</td>\n",
       "      <td>33.3068</td>\n",
       "      <td>0.2661</td>\n",
       "      <td>5863.555664</td>\n",
       "      <td>31.1</td>\n",
       "      <td>23.9</td>\n",
       "      <td>30</td>\n",
       "      <td>6</td>\n",
       "      <td>2013</td>\n",
       "    </tr>\n",
       "    <tr>\n",
       "      <th>3</th>\n",
       "      <td>4.0</td>\n",
       "      <td>2013-06-30</td>\n",
       "      <td>32.0</td>\n",
       "      <td>23.4</td>\n",
       "      <td>58.239788</td>\n",
       "      <td>96.483688</td>\n",
       "      <td>29.704629</td>\n",
       "      <td>23.326177</td>\n",
       "      <td>5.650050</td>\n",
       "      <td>65.727144</td>\n",
       "      <td>0.216372</td>\n",
       "      <td>0.226002</td>\n",
       "      <td>0.161157</td>\n",
       "      <td>0.134249</td>\n",
       "      <td>0.0</td>\n",
       "      <td>0.0</td>\n",
       "      <td>0.0</td>\n",
       "      <td>0.0</td>\n",
       "      <td>37.6450</td>\n",
       "      <td>127.022</td>\n",
       "      <td>45.7160</td>\n",
       "      <td>2.5348</td>\n",
       "      <td>5856.964844</td>\n",
       "      <td>31.7</td>\n",
       "      <td>24.3</td>\n",
       "      <td>30</td>\n",
       "      <td>6</td>\n",
       "      <td>2013</td>\n",
       "    </tr>\n",
       "    <tr>\n",
       "      <th>4</th>\n",
       "      <td>5.0</td>\n",
       "      <td>2013-06-30</td>\n",
       "      <td>31.4</td>\n",
       "      <td>21.9</td>\n",
       "      <td>56.174095</td>\n",
       "      <td>90.155128</td>\n",
       "      <td>29.113934</td>\n",
       "      <td>23.486480</td>\n",
       "      <td>5.735004</td>\n",
       "      <td>107.965535</td>\n",
       "      <td>0.151407</td>\n",
       "      <td>0.249995</td>\n",
       "      <td>0.178892</td>\n",
       "      <td>0.170021</td>\n",
       "      <td>0.0</td>\n",
       "      <td>0.0</td>\n",
       "      <td>0.0</td>\n",
       "      <td>0.0</td>\n",
       "      <td>37.5507</td>\n",
       "      <td>127.135</td>\n",
       "      <td>35.0380</td>\n",
       "      <td>0.5055</td>\n",
       "      <td>5859.552246</td>\n",
       "      <td>31.2</td>\n",
       "      <td>22.5</td>\n",
       "      <td>30</td>\n",
       "      <td>6</td>\n",
       "      <td>2013</td>\n",
       "    </tr>\n",
       "  </tbody>\n",
       "</table>\n",
       "</div>"
      ],
      "text/plain": [
       "   station       Date  Present_Tmax  Present_Tmin  LDAPS_RHmin  LDAPS_RHmax  \\\n",
       "0      1.0 2013-06-30          28.7          21.4    58.255688    91.116364   \n",
       "1      2.0 2013-06-30          31.9          21.6    52.263397    90.604721   \n",
       "2      3.0 2013-06-30          31.6          23.3    48.690479    83.973587   \n",
       "3      4.0 2013-06-30          32.0          23.4    58.239788    96.483688   \n",
       "4      5.0 2013-06-30          31.4          21.9    56.174095    90.155128   \n",
       "\n",
       "   LDAPS_Tmax_lapse  LDAPS_Tmin_lapse  LDAPS_WS    LDAPS_LH  LDAPS_CC1  \\\n",
       "0         28.074101         23.006936  6.818887   69.451805   0.233947   \n",
       "1         29.850689         24.035009  5.691890   51.937448   0.225508   \n",
       "2         30.091292         24.565633  6.138224   20.573050   0.209344   \n",
       "3         29.704629         23.326177  5.650050   65.727144   0.216372   \n",
       "4         29.113934         23.486480  5.735004  107.965535   0.151407   \n",
       "\n",
       "   LDAPS_CC2  LDAPS_CC3  LDAPS_CC4  LDAPS_PPT1  LDAPS_PPT2  LDAPS_PPT3  \\\n",
       "0   0.203896   0.161697   0.130928         0.0         0.0         0.0   \n",
       "1   0.251771   0.159444   0.127727         0.0         0.0         0.0   \n",
       "2   0.257469   0.204091   0.142125         0.0         0.0         0.0   \n",
       "3   0.226002   0.161157   0.134249         0.0         0.0         0.0   \n",
       "4   0.249995   0.178892   0.170021         0.0         0.0         0.0   \n",
       "\n",
       "   LDAPS_PPT4      lat      lon       DEM   Slope  Solar radiation  Next_Tmax  \\\n",
       "0         0.0  37.6046  126.991  212.3350  2.7850      5992.895996       29.1   \n",
       "1         0.0  37.6046  127.032   44.7624  0.5141      5869.312500       30.5   \n",
       "2         0.0  37.5776  127.058   33.3068  0.2661      5863.555664       31.1   \n",
       "3         0.0  37.6450  127.022   45.7160  2.5348      5856.964844       31.7   \n",
       "4         0.0  37.5507  127.135   35.0380  0.5055      5859.552246       31.2   \n",
       "\n",
       "   Next_Tmin  Day  Month  Year  \n",
       "0       21.2   30      6  2013  \n",
       "1       22.5   30      6  2013  \n",
       "2       23.9   30      6  2013  \n",
       "3       24.3   30      6  2013  \n",
       "4       22.5   30      6  2013  "
      ]
     },
     "execution_count": 12,
     "metadata": {},
     "output_type": "execute_result"
    }
   ],
   "source": [
    "df.head()"
   ]
  },
  {
   "cell_type": "code",
   "execution_count": 24,
   "metadata": {},
   "outputs": [
    {
     "data": {
      "text/html": [
       "<div>\n",
       "<style scoped>\n",
       "    .dataframe tbody tr th:only-of-type {\n",
       "        vertical-align: middle;\n",
       "    }\n",
       "\n",
       "    .dataframe tbody tr th {\n",
       "        vertical-align: top;\n",
       "    }\n",
       "\n",
       "    .dataframe thead th {\n",
       "        text-align: right;\n",
       "    }\n",
       "</style>\n",
       "<table border=\"1\" class=\"dataframe\">\n",
       "  <thead>\n",
       "    <tr style=\"text-align: right;\">\n",
       "      <th></th>\n",
       "      <th>station</th>\n",
       "      <th>Date</th>\n",
       "      <th>Present_Tmax</th>\n",
       "      <th>Present_Tmin</th>\n",
       "      <th>LDAPS_RHmin</th>\n",
       "      <th>LDAPS_RHmax</th>\n",
       "      <th>LDAPS_Tmax_lapse</th>\n",
       "      <th>LDAPS_Tmin_lapse</th>\n",
       "      <th>LDAPS_WS</th>\n",
       "      <th>LDAPS_LH</th>\n",
       "      <th>LDAPS_CC1</th>\n",
       "      <th>LDAPS_CC2</th>\n",
       "      <th>LDAPS_CC3</th>\n",
       "      <th>LDAPS_CC4</th>\n",
       "      <th>LDAPS_PPT1</th>\n",
       "      <th>LDAPS_PPT2</th>\n",
       "      <th>LDAPS_PPT3</th>\n",
       "      <th>LDAPS_PPT4</th>\n",
       "      <th>lat</th>\n",
       "      <th>lon</th>\n",
       "      <th>DEM</th>\n",
       "      <th>Slope</th>\n",
       "      <th>Solar radiation</th>\n",
       "      <th>Next_Tmax</th>\n",
       "      <th>Next_Tmin</th>\n",
       "      <th>Day</th>\n",
       "      <th>Month</th>\n",
       "      <th>Year</th>\n",
       "    </tr>\n",
       "  </thead>\n",
       "  <tbody>\n",
       "    <tr>\n",
       "      <th>count</th>\n",
       "      <td>7588.000000</td>\n",
       "      <td>7588</td>\n",
       "      <td>7588.000000</td>\n",
       "      <td>7588.000000</td>\n",
       "      <td>7588.000000</td>\n",
       "      <td>7588.000000</td>\n",
       "      <td>7588.000000</td>\n",
       "      <td>7588.000000</td>\n",
       "      <td>7588.000000</td>\n",
       "      <td>7588.000000</td>\n",
       "      <td>7588.000000</td>\n",
       "      <td>7588.000000</td>\n",
       "      <td>7588.000000</td>\n",
       "      <td>7588.000000</td>\n",
       "      <td>7588.000000</td>\n",
       "      <td>7588.000000</td>\n",
       "      <td>7588.000000</td>\n",
       "      <td>7588.000000</td>\n",
       "      <td>7588.000000</td>\n",
       "      <td>7588.00000</td>\n",
       "      <td>7588.000000</td>\n",
       "      <td>7588.000000</td>\n",
       "      <td>7588.000000</td>\n",
       "      <td>7588.000000</td>\n",
       "      <td>7588.000000</td>\n",
       "      <td>7588.000000</td>\n",
       "      <td>7588.000000</td>\n",
       "      <td>7588.000000</td>\n",
       "    </tr>\n",
       "    <tr>\n",
       "      <th>mean</th>\n",
       "      <td>13.014101</td>\n",
       "      <td>2015-07-27 18:22:12.208750592</td>\n",
       "      <td>29.748366</td>\n",
       "      <td>23.195809</td>\n",
       "      <td>56.724969</td>\n",
       "      <td>88.360823</td>\n",
       "      <td>29.620128</td>\n",
       "      <td>23.511786</td>\n",
       "      <td>7.094097</td>\n",
       "      <td>62.492606</td>\n",
       "      <td>0.368510</td>\n",
       "      <td>0.355528</td>\n",
       "      <td>0.317546</td>\n",
       "      <td>0.298268</td>\n",
       "      <td>0.589008</td>\n",
       "      <td>0.480738</td>\n",
       "      <td>0.275007</td>\n",
       "      <td>0.265373</td>\n",
       "      <td>37.544792</td>\n",
       "      <td>126.99142</td>\n",
       "      <td>61.918136</td>\n",
       "      <td>1.259755</td>\n",
       "      <td>5343.724208</td>\n",
       "      <td>30.241526</td>\n",
       "      <td>22.910820</td>\n",
       "      <td>15.939510</td>\n",
       "      <td>7.465999</td>\n",
       "      <td>2014.991697</td>\n",
       "    </tr>\n",
       "    <tr>\n",
       "      <th>min</th>\n",
       "      <td>1.000000</td>\n",
       "      <td>2013-06-30 00:00:00</td>\n",
       "      <td>20.000000</td>\n",
       "      <td>11.300000</td>\n",
       "      <td>19.794666</td>\n",
       "      <td>58.936283</td>\n",
       "      <td>17.624954</td>\n",
       "      <td>14.272646</td>\n",
       "      <td>2.882580</td>\n",
       "      <td>-13.603212</td>\n",
       "      <td>0.000000</td>\n",
       "      <td>0.000000</td>\n",
       "      <td>0.000000</td>\n",
       "      <td>0.000000</td>\n",
       "      <td>0.000000</td>\n",
       "      <td>0.000000</td>\n",
       "      <td>0.000000</td>\n",
       "      <td>0.000000</td>\n",
       "      <td>37.456200</td>\n",
       "      <td>126.82600</td>\n",
       "      <td>12.370000</td>\n",
       "      <td>0.098500</td>\n",
       "      <td>4329.520508</td>\n",
       "      <td>17.400000</td>\n",
       "      <td>11.300000</td>\n",
       "      <td>1.000000</td>\n",
       "      <td>6.000000</td>\n",
       "      <td>2013.000000</td>\n",
       "    </tr>\n",
       "    <tr>\n",
       "      <th>25%</th>\n",
       "      <td>7.000000</td>\n",
       "      <td>2014-07-15 00:00:00</td>\n",
       "      <td>27.800000</td>\n",
       "      <td>21.600000</td>\n",
       "      <td>45.960243</td>\n",
       "      <td>84.203724</td>\n",
       "      <td>27.673756</td>\n",
       "      <td>22.086820</td>\n",
       "      <td>5.675358</td>\n",
       "      <td>37.206201</td>\n",
       "      <td>0.146546</td>\n",
       "      <td>0.140324</td>\n",
       "      <td>0.100950</td>\n",
       "      <td>0.081495</td>\n",
       "      <td>0.000000</td>\n",
       "      <td>0.000000</td>\n",
       "      <td>0.000000</td>\n",
       "      <td>0.000000</td>\n",
       "      <td>37.510200</td>\n",
       "      <td>126.93700</td>\n",
       "      <td>28.700000</td>\n",
       "      <td>0.271300</td>\n",
       "      <td>5001.485717</td>\n",
       "      <td>28.200000</td>\n",
       "      <td>21.300000</td>\n",
       "      <td>8.000000</td>\n",
       "      <td>7.000000</td>\n",
       "      <td>2014.000000</td>\n",
       "    </tr>\n",
       "    <tr>\n",
       "      <th>50%</th>\n",
       "      <td>13.000000</td>\n",
       "      <td>2015-07-29 00:00:00</td>\n",
       "      <td>29.900000</td>\n",
       "      <td>23.400000</td>\n",
       "      <td>55.023199</td>\n",
       "      <td>89.784122</td>\n",
       "      <td>29.709537</td>\n",
       "      <td>23.758249</td>\n",
       "      <td>6.547838</td>\n",
       "      <td>56.898324</td>\n",
       "      <td>0.315706</td>\n",
       "      <td>0.311676</td>\n",
       "      <td>0.261795</td>\n",
       "      <td>0.227459</td>\n",
       "      <td>0.000000</td>\n",
       "      <td>0.000000</td>\n",
       "      <td>0.000000</td>\n",
       "      <td>0.000000</td>\n",
       "      <td>37.550700</td>\n",
       "      <td>126.99500</td>\n",
       "      <td>45.716000</td>\n",
       "      <td>0.618000</td>\n",
       "      <td>5441.987305</td>\n",
       "      <td>30.400000</td>\n",
       "      <td>23.100000</td>\n",
       "      <td>16.000000</td>\n",
       "      <td>7.000000</td>\n",
       "      <td>2015.000000</td>\n",
       "    </tr>\n",
       "    <tr>\n",
       "      <th>75%</th>\n",
       "      <td>19.000000</td>\n",
       "      <td>2016-08-14 00:00:00</td>\n",
       "      <td>32.000000</td>\n",
       "      <td>24.800000</td>\n",
       "      <td>67.115099</td>\n",
       "      <td>93.742725</td>\n",
       "      <td>31.711109</td>\n",
       "      <td>25.155660</td>\n",
       "      <td>8.028960</td>\n",
       "      <td>84.235666</td>\n",
       "      <td>0.574174</td>\n",
       "      <td>0.557164</td>\n",
       "      <td>0.496444</td>\n",
       "      <td>0.498127</td>\n",
       "      <td>0.052594</td>\n",
       "      <td>0.017735</td>\n",
       "      <td>0.007855</td>\n",
       "      <td>0.000017</td>\n",
       "      <td>37.577600</td>\n",
       "      <td>127.04200</td>\n",
       "      <td>59.832400</td>\n",
       "      <td>1.767800</td>\n",
       "      <td>5729.485840</td>\n",
       "      <td>32.600000</td>\n",
       "      <td>24.600000</td>\n",
       "      <td>24.000000</td>\n",
       "      <td>8.000000</td>\n",
       "      <td>2016.000000</td>\n",
       "    </tr>\n",
       "    <tr>\n",
       "      <th>max</th>\n",
       "      <td>25.000000</td>\n",
       "      <td>2017-08-30 00:00:00</td>\n",
       "      <td>37.600000</td>\n",
       "      <td>29.900000</td>\n",
       "      <td>98.524734</td>\n",
       "      <td>100.000153</td>\n",
       "      <td>38.542255</td>\n",
       "      <td>29.619342</td>\n",
       "      <td>21.857621</td>\n",
       "      <td>213.414006</td>\n",
       "      <td>0.967277</td>\n",
       "      <td>0.968353</td>\n",
       "      <td>0.983789</td>\n",
       "      <td>0.974710</td>\n",
       "      <td>23.701544</td>\n",
       "      <td>21.621661</td>\n",
       "      <td>15.841235</td>\n",
       "      <td>16.655469</td>\n",
       "      <td>37.645000</td>\n",
       "      <td>127.13500</td>\n",
       "      <td>212.335000</td>\n",
       "      <td>5.178200</td>\n",
       "      <td>5992.895996</td>\n",
       "      <td>38.900000</td>\n",
       "      <td>29.800000</td>\n",
       "      <td>31.000000</td>\n",
       "      <td>8.000000</td>\n",
       "      <td>2017.000000</td>\n",
       "    </tr>\n",
       "    <tr>\n",
       "      <th>std</th>\n",
       "      <td>7.217858</td>\n",
       "      <td>NaN</td>\n",
       "      <td>2.967401</td>\n",
       "      <td>2.400880</td>\n",
       "      <td>14.626559</td>\n",
       "      <td>7.199456</td>\n",
       "      <td>2.943496</td>\n",
       "      <td>2.342579</td>\n",
       "      <td>2.177034</td>\n",
       "      <td>33.686158</td>\n",
       "      <td>0.262260</td>\n",
       "      <td>0.257922</td>\n",
       "      <td>0.249833</td>\n",
       "      <td>0.253392</td>\n",
       "      <td>1.927577</td>\n",
       "      <td>1.743327</td>\n",
       "      <td>1.146087</td>\n",
       "      <td>1.179661</td>\n",
       "      <td>0.050428</td>\n",
       "      <td>0.07922</td>\n",
       "      <td>54.323529</td>\n",
       "      <td>1.372748</td>\n",
       "      <td>429.782561</td>\n",
       "      <td>3.111807</td>\n",
       "      <td>2.482256</td>\n",
       "      <td>8.906521</td>\n",
       "      <td>0.528635</td>\n",
       "      <td>1.410877</td>\n",
       "    </tr>\n",
       "  </tbody>\n",
       "</table>\n",
       "</div>"
      ],
      "text/plain": [
       "           station                           Date  Present_Tmax  Present_Tmin  \\\n",
       "count  7588.000000                           7588   7588.000000   7588.000000   \n",
       "mean     13.014101  2015-07-27 18:22:12.208750592     29.748366     23.195809   \n",
       "min       1.000000            2013-06-30 00:00:00     20.000000     11.300000   \n",
       "25%       7.000000            2014-07-15 00:00:00     27.800000     21.600000   \n",
       "50%      13.000000            2015-07-29 00:00:00     29.900000     23.400000   \n",
       "75%      19.000000            2016-08-14 00:00:00     32.000000     24.800000   \n",
       "max      25.000000            2017-08-30 00:00:00     37.600000     29.900000   \n",
       "std       7.217858                            NaN      2.967401      2.400880   \n",
       "\n",
       "       LDAPS_RHmin  LDAPS_RHmax  LDAPS_Tmax_lapse  LDAPS_Tmin_lapse  \\\n",
       "count  7588.000000  7588.000000       7588.000000       7588.000000   \n",
       "mean     56.724969    88.360823         29.620128         23.511786   \n",
       "min      19.794666    58.936283         17.624954         14.272646   \n",
       "25%      45.960243    84.203724         27.673756         22.086820   \n",
       "50%      55.023199    89.784122         29.709537         23.758249   \n",
       "75%      67.115099    93.742725         31.711109         25.155660   \n",
       "max      98.524734   100.000153         38.542255         29.619342   \n",
       "std      14.626559     7.199456          2.943496          2.342579   \n",
       "\n",
       "          LDAPS_WS     LDAPS_LH    LDAPS_CC1    LDAPS_CC2    LDAPS_CC3  \\\n",
       "count  7588.000000  7588.000000  7588.000000  7588.000000  7588.000000   \n",
       "mean      7.094097    62.492606     0.368510     0.355528     0.317546   \n",
       "min       2.882580   -13.603212     0.000000     0.000000     0.000000   \n",
       "25%       5.675358    37.206201     0.146546     0.140324     0.100950   \n",
       "50%       6.547838    56.898324     0.315706     0.311676     0.261795   \n",
       "75%       8.028960    84.235666     0.574174     0.557164     0.496444   \n",
       "max      21.857621   213.414006     0.967277     0.968353     0.983789   \n",
       "std       2.177034    33.686158     0.262260     0.257922     0.249833   \n",
       "\n",
       "         LDAPS_CC4   LDAPS_PPT1   LDAPS_PPT2   LDAPS_PPT3   LDAPS_PPT4  \\\n",
       "count  7588.000000  7588.000000  7588.000000  7588.000000  7588.000000   \n",
       "mean      0.298268     0.589008     0.480738     0.275007     0.265373   \n",
       "min       0.000000     0.000000     0.000000     0.000000     0.000000   \n",
       "25%       0.081495     0.000000     0.000000     0.000000     0.000000   \n",
       "50%       0.227459     0.000000     0.000000     0.000000     0.000000   \n",
       "75%       0.498127     0.052594     0.017735     0.007855     0.000017   \n",
       "max       0.974710    23.701544    21.621661    15.841235    16.655469   \n",
       "std       0.253392     1.927577     1.743327     1.146087     1.179661   \n",
       "\n",
       "               lat         lon          DEM        Slope  Solar radiation  \\\n",
       "count  7588.000000  7588.00000  7588.000000  7588.000000      7588.000000   \n",
       "mean     37.544792   126.99142    61.918136     1.259755      5343.724208   \n",
       "min      37.456200   126.82600    12.370000     0.098500      4329.520508   \n",
       "25%      37.510200   126.93700    28.700000     0.271300      5001.485717   \n",
       "50%      37.550700   126.99500    45.716000     0.618000      5441.987305   \n",
       "75%      37.577600   127.04200    59.832400     1.767800      5729.485840   \n",
       "max      37.645000   127.13500   212.335000     5.178200      5992.895996   \n",
       "std       0.050428     0.07922    54.323529     1.372748       429.782561   \n",
       "\n",
       "         Next_Tmax    Next_Tmin          Day        Month         Year  \n",
       "count  7588.000000  7588.000000  7588.000000  7588.000000  7588.000000  \n",
       "mean     30.241526    22.910820    15.939510     7.465999  2014.991697  \n",
       "min      17.400000    11.300000     1.000000     6.000000  2013.000000  \n",
       "25%      28.200000    21.300000     8.000000     7.000000  2014.000000  \n",
       "50%      30.400000    23.100000    16.000000     7.000000  2015.000000  \n",
       "75%      32.600000    24.600000    24.000000     8.000000  2016.000000  \n",
       "max      38.900000    29.800000    31.000000     8.000000  2017.000000  \n",
       "std       3.111807     2.482256     8.906521     0.528635     1.410877  "
      ]
     },
     "execution_count": 24,
     "metadata": {},
     "output_type": "execute_result"
    }
   ],
   "source": [
    "df.describe()"
   ]
  },
  {
   "cell_type": "markdown",
   "metadata": {},
   "source": [
    "## Start Exploring Present Temperature"
   ]
  },
  {
   "cell_type": "code",
   "execution_count": null,
   "metadata": {},
   "outputs": [],
   "source": [
    "# Plotting histogram for present_Tmax and present_Tmin variables\n",
    "plt.figure(figsize=(12,5))\n",
    "plt.subplot(1,2,1)\n",
    "sns.histplot(df['Present_Tmax'],kde=True,color='r')\n",
    "plt.subplot(1,2,2)\n",
    "sns.histplot(df['Present_Tmin'],kde=True,color='m')\n",
    "plt.show()"
   ]
  },
  {
   "cell_type": "markdown",
   "metadata": {},
   "source": [
    "#### Comment:\n",
    "- For majority of reading Present Temperature Maximum varies in between 27.5 to 32.5 degree.\n",
    "- For majority of reading Present Temperature Minimum varies in between 22.5 to 26 degree.\n",
    "\n",
    "### Lets find out maximum and minimum Temperature over period"
   ]
  },
  {
   "cell_type": "code",
   "execution_count": null,
   "metadata": {
    "scrolled": false
   },
   "outputs": [],
   "source": [
    "print('Present Maximum Temperature Maxima in year 2013-2016 :',df.Present_Tmax.max())\n",
    "print('Present Maximum Temperature Minima in year 2013-2016 :',df.Present_Tmax.min())\n",
    "print(' Average Present Maximum Temperature in year 2013-2016 :',df.Present_Tmax.mean())\n",
    "print('='*100)\n",
    "print('Present Minimum Temperature Maxima in year 2013-2016 :',df.Present_Tmin.max())\n",
    "print('Present Minimum Temperature Minima in year 2013-2016 :',df.Present_Tmin.min())\n",
    "print('Average Present Minimum Temperature in year 2013-2016 :',df.Present_Tmin.mean())"
   ]
  },
  {
   "cell_type": "markdown",
   "metadata": {},
   "source": [
    "##### Checking where actually these minima and maxima occur"
   ]
  },
  {
   "cell_type": "code",
   "execution_count": null,
   "metadata": {},
   "outputs": [],
   "source": [
    "pd.set_option('display.max_columns', None)\n",
    "df.loc[df.Present_Tmax==df.Present_Tmax.max()]"
   ]
  },
  {
   "cell_type": "code",
   "execution_count": null,
   "metadata": {},
   "outputs": [],
   "source": [
    "df.loc[df.Present_Tmax==df.Present_Tmax.min()]"
   ]
  },
  {
   "cell_type": "code",
   "execution_count": null,
   "metadata": {},
   "outputs": [],
   "source": [
    "df.loc[df.Present_Tmin==df.Present_Tmin.max()]"
   ]
  },
  {
   "cell_type": "code",
   "execution_count": null,
   "metadata": {
    "scrolled": true
   },
   "outputs": [],
   "source": [
    "df.loc[df.Present_Tmin==df.Present_Tmin.min()]"
   ]
  },
  {
   "cell_type": "markdown",
   "metadata": {},
   "source": [
    "#### Observation:\n",
    "- Present Maximum Temperature <u> Maxima </u>over four year span recorded at station 18 on 2016-11-08 with Temp of 37.6 degree. Station 18 Located at Bucheon-si city of Gyeonggido state.\n",
    "- Present Maximum Temperature <u> Minima </u> over four year span recorded at station 1 on 2017-08-30 with Temp of 20 degree.\n",
    "- Present Maximum Temperature <u> Maxima </u> over  four year span recorded at station 23 on 2014-02-08 with Temp of 29.9 degree. The station 23 is located in Gurisi of Gyeonggido state\n",
    "- Present Maximum Temperature <u> Minima </u> over four year span recorded at station 17 on 2016-08-27 with Temp of 11.3 degree. The station 17 is located in seoul city.\n",
    "- We get high value of solar radiation of high temperature day and Low radiation values at low temperature day.\n",
    "- Maximum Humidity occur when global temeperature minima occur. <b> This might implies that humidity and temperature are inversely related.We will try to verify this. </b>\n",
    "- Solar radiation has naturally going to have effect on wind speed,precipitation and humidity.\n",
    "\n",
    "### Let Visualise & gain insight over this by plotting line plot over all station."
   ]
  },
  {
   "cell_type": "markdown",
   "metadata": {},
   "source": [
    "<b> Line Plot of Present Temperature Maximum over each Station </b>"
   ]
  },
  {
   "cell_type": "code",
   "execution_count": null,
   "metadata": {},
   "outputs": [],
   "source": [
    "plt.figure(figsize=(20,10))\n",
    "sns.set_style('whitegrid')\n",
    "sns.pointplot(x='station', y='Present_Tmax', data=df, hue='Year',join=False)\n",
    "plt.title('Present Maximum Temperature Per Year for each Station', fontsize=22, fontweight='bold')\n",
    "plt.xlabel('Station ID',{'fontsize':15,'fontweight' :'bold'})\n",
    "plt.ylabel('Present Maximum Temperature',{'fontsize':15,'fontweight' :'bold'})\n",
    "plt.xticks(fontsize=16,fontweight ='bold')\n",
    "plt.yticks(fontsize=16,fontweight ='bold')\n",
    "plt.legend(fontsize=14)"
   ]
  },
  {
   "cell_type": "markdown",
   "metadata": {},
   "source": [
    "#### Observation on line plot of Present Maximum Temperature:\n",
    "- Over all four year higher temperature recorded at station 18 in compare to rest.\n",
    "- Station 1 is coolest station over all timeframe.\n",
    "- <b>We can see 2016 is hottest year and 2014 is coolest year. It will be interesting to explore these two year independently.</b>\n",
    "- <b>Year 2017 is much cooler compare to Year 2016.</b> Precious relife to people in 2017 !!!"
   ]
  },
  {
   "cell_type": "markdown",
   "metadata": {},
   "source": [
    "<b> Line Plot of Present Temperature Minimum over each Station </b>"
   ]
  },
  {
   "cell_type": "code",
   "execution_count": null,
   "metadata": {},
   "outputs": [],
   "source": [
    "plt.figure(figsize=(20,10))\n",
    "sns.set_style('whitegrid')\n",
    "sns.pointplot(x='station', y='Present_Tmin', data=df, hue='Year',join=False)\n",
    "plt.title('Present Minimum Temperature Per Year for each Station', fontsize=22, fontweight='bold')\n",
    "plt.xlabel('Station ID',{'fontsize':15,'fontweight' :'bold'})\n",
    "plt.ylabel('Present Minimum Temperature',{'fontsize':15,'fontweight' :'bold'})\n",
    "plt.xticks(fontsize=16,fontweight ='bold')\n",
    "plt.yticks(fontsize=16,fontweight ='bold')\n",
    "plt.legend(fontsize=14)"
   ]
  },
  {
   "cell_type": "markdown",
   "metadata": {},
   "source": [
    "#### Observation on line plot of Present Minimum Temperature:\n",
    "- Year 2014 is coolest year of all time frame.\n",
    "- Highest Present Minimum Temperature recorded at Station 24 inspite of Not having Highest Present Maximum Temperature. <b>This is implies that over day period minimum temperature drop recorded at station 24.</b>\n",
    "- Station 1 is coolest station of all time followed by station 17. Must be tourist spot in Summer."
   ]
  },
  {
   "cell_type": "code",
   "execution_count": null,
   "metadata": {},
   "outputs": [],
   "source": [
    "sns.barplot(x=df['Month'], y=df['Solar radiation'])"
   ]
  },
  {
   "cell_type": "code",
   "execution_count": null,
   "metadata": {},
   "outputs": [],
   "source": [
    "sns.violinplot(x=df['Next_Tmax'], y=df['Solar radiation'])"
   ]
  },
  {
   "cell_type": "markdown",
   "metadata": {},
   "source": [
    "### Exploration of Target Variable"
   ]
  },
  {
   "cell_type": "code",
   "execution_count": null,
   "metadata": {},
   "outputs": [],
   "source": [
    "# Plotting histogram for target variables\n",
    "plt.figure(figsize=(12,5))\n",
    "plt.subplot(1,2,1)\n",
    "sns.histplot(df['Next_Tmax'],kde=True,color='b')\n",
    "plt.subplot(1,2,2)\n",
    "sns.histplot(df['Next_Tmin'],kde=True,color='r')\n",
    "plt.show()"
   ]
  },
  {
   "cell_type": "markdown",
   "metadata": {},
   "source": [
    "#### Comment:\n",
    "We get same result as we get in case of present temperature.\n",
    "- For majority of reading Next Temperature Maximum varies in between 27.5 to 32.5 degree.\n",
    "- For majority of reading Next Temperature Minimum varies in between 22.5 to 26 degree."
   ]
  },
  {
   "cell_type": "code",
   "execution_count": null,
   "metadata": {},
   "outputs": [],
   "source": [
    "# Visualizing the realtion between station and target variables\n",
    "plt.figure(figsize=(16,12))\n",
    "plt.subplot(2,1,1)\n",
    "sns.boxplot(df['station'],df['Next_Tmax'],data=df,palette=\"bright\")\n",
    "plt.title('Next Maximum Temperature for each Station', fontsize=22, fontweight='bold')\n",
    "plt.subplot(2,1,2)\n",
    "sns.boxplot(df['station'],df['Next_Tmin'],data=df,palette=\"bright\")\n",
    "plt.title('Next Minimum Temperature for each Station', fontsize=22, fontweight='bold')\n",
    "plt.show()"
   ]
  },
  {
   "cell_type": "markdown",
   "metadata": {},
   "source": [
    "#### Observation :\n",
    "From the box plot \n",
    "- we can notice the station 18 has highest temperature collection for both Next_Tmax and Next_Tmin targets.\n",
    "- Maximum temperature difference at same station occur in station 17."
   ]
  },
  {
   "cell_type": "markdown",
   "metadata": {},
   "source": [
    "### <b>Next Maximum Temperature Vs Cloud cover</b>"
   ]
  },
  {
   "cell_type": "code",
   "execution_count": null,
   "metadata": {},
   "outputs": [],
   "source": [
    "# Comparing Next day maximnum temperature and next day average cloud cover\n",
    "\n",
    "plt.figure(figsize=(18,16))\n",
    "plt.suptitle('Next_Tmax Vs Next-day average cloud cover',fontsize=14, fontweight='bold')\n",
    "\n",
    "plt.subplot(2,2,1)\n",
    "plt.title('Next day max Temperature Vs Next-day 1st 6-hour cloud cover',fontsize=14, fontweight='bold')\n",
    "sns.scatterplot(x='LDAPS_CC1',y='Next_Tmax',data=df,color=\"blue\")\n",
    "plt.xticks(fontsize=12,fontweight ='bold')\n",
    "plt.yticks(fontsize=12,fontweight ='bold')\n",
    "\n",
    "plt.subplot(2,2,2)\n",
    "plt.title('Next day max Temperature Vs next-day 2nd 6-hour cloud cover',fontsize=14, fontweight='bold')\n",
    "sns.scatterplot(x='LDAPS_CC2',y='Next_Tmax',data=df,color='purple')\n",
    "plt.xticks(fontsize=12,fontweight ='bold')\n",
    "plt.yticks(fontsize=12,fontweight ='bold')\n",
    "\n",
    "plt.subplot(2,2,3)\n",
    "plt.title('Next day max Temperature Vs next-day 3rd 6-hour cloud cover',fontsize=14, fontweight='bold')\n",
    "sns.scatterplot(x='LDAPS_CC3',y='Next_Tmax',data=df,color='green')\n",
    "plt.xticks(fontsize=12,fontweight ='bold')\n",
    "plt.yticks(fontsize=12,fontweight ='bold')\n",
    "\n",
    "plt.subplot(2,2,4)\n",
    "plt.title('Next day max Temperature Vs next_day 4th 6-hour cloud cover',fontsize=14, fontweight='bold')\n",
    "sns.scatterplot(x='LDAPS_CC4',y='Next_Tmax',data=df,color=\"red\")\n",
    "plt.xticks(fontsize=12,fontweight ='bold')\n",
    "plt.yticks(fontsize=12,fontweight ='bold')\n",
    "plt.show()"
   ]
  },
  {
   "cell_type": "markdown",
   "metadata": {},
   "source": [
    "#### Observation:\n",
    "<b><em>Irrespective of 6 hr quarter in 24 hr day time, Next-day Temperature Maximum decreases as cloud cover increases beyond 0.6.</em></b>"
   ]
  },
  {
   "cell_type": "code",
   "execution_count": null,
   "metadata": {},
   "outputs": [],
   "source": [
    "# Comparing Next day minimum temperature and next day average cloud cover\n",
    "\n",
    "plt.figure(figsize=(18,16))\n",
    "plt.suptitle('Next_Tmin Vs Next-day average cloud cover',fontsize=20, fontweight='bold')\n",
    "\n",
    "plt.subplot(2,2,1)\n",
    "plt.title('Next day min Temperature Vs Next-day 1st 6-hour cloud cover',fontsize=14, fontweight='bold')\n",
    "sns.scatterplot(x='LDAPS_CC1',y='Next_Tmin',data=df,color=\"g\")\n",
    "plt.xticks(fontsize=12,fontweight ='bold')\n",
    "plt.yticks(fontsize=12,fontweight ='bold')\n",
    "\n",
    "plt.subplot(2,2,2)\n",
    "plt.title('Next day min Temperature Vs next-day 2nd 6-hour cloud cover',fontsize=14, fontweight='bold')\n",
    "sns.scatterplot(x='LDAPS_CC2',y='Next_Tmin',data=df,color='b')\n",
    "plt.xticks(fontsize=12,fontweight ='bold')\n",
    "plt.yticks(fontsize=12,fontweight ='bold')\n",
    "\n",
    "plt.subplot(2,2,3)\n",
    "plt.title('Next day min Temperature Vs next-day 3rd 6-hour cloud cover',fontsize=14, fontweight='bold')\n",
    "sns.scatterplot(x='LDAPS_CC3',y='Next_Tmin',data=df,color='violet')\n",
    "plt.xticks(fontsize=12,fontweight ='bold')\n",
    "plt.yticks(fontsize=12,fontweight ='bold')\n",
    "\n",
    "plt.subplot(2,2,4)\n",
    "plt.title('Next day min Temperature Vs next_day 4th 6-hour cloud cover',fontsize=14, fontweight='bold')\n",
    "sns.scatterplot(x='LDAPS_CC4',y='Next_Tmin',data=df,color=\"r\")\n",
    "plt.xticks(fontsize=12,fontweight ='bold')\n",
    "plt.yticks(fontsize=12,fontweight ='bold')\n",
    "plt.show()"
   ]
  },
  {
   "cell_type": "markdown",
   "metadata": {},
   "source": [
    "#### Observation:\n",
    "<b><em> No significant relation between Next_Tmin and cloud cover in scatterplot. \n",
    "    \n",
    "We can say that Next_Tmin remains unaffected by cloud cover.</em></b>\n",
    "#### Solar radiation might most impact on Cloud cover and precipitation, its time to explore them."
   ]
  },
  {
   "cell_type": "code",
   "execution_count": null,
   "metadata": {},
   "outputs": [],
   "source": [
    "# Comparing Next day minimum temperature and next day average cloud cover\n",
    "\n",
    "plt.figure(figsize=(18,16))\n",
    "plt.suptitle('Solar Radiation Vs Next-day average cloud cover',fontsize=20, fontweight='bold')\n",
    "\n",
    "plt.subplot(2,2,1)\n",
    "plt.title('Solar radiation Vs Next-day 1st 6-hour cloud cover',fontsize=14, fontweight='bold')\n",
    "sns.scatterplot(x='LDAPS_CC1',y='Solar radiation',data=df,color=\"g\")\n",
    "plt.xticks(fontsize=12,fontweight ='bold')\n",
    "plt.yticks(fontsize=12,fontweight ='bold')\n",
    "\n",
    "plt.subplot(2,2,2)\n",
    "plt.title('Solar radiation Vs next-day 2nd 6-hour cloud cover',fontsize=14, fontweight='bold')\n",
    "sns.scatterplot(x='LDAPS_CC2',y='Solar radiation',data=df,color='b')\n",
    "plt.xticks(fontsize=12,fontweight ='bold')\n",
    "plt.yticks(fontsize=12,fontweight ='bold')\n",
    "\n",
    "plt.subplot(2,2,3)\n",
    "plt.title('Solar radiation Vs next-day 3rd 6-hour cloud cover',fontsize=14, fontweight='bold')\n",
    "sns.scatterplot(x='LDAPS_CC3',y='Solar radiation',data=df,color='violet')\n",
    "plt.xticks(fontsize=12,fontweight ='bold')\n",
    "plt.yticks(fontsize=12,fontweight ='bold')\n",
    "\n",
    "plt.subplot(2,2,4)\n",
    "plt.title('Solar radiation Vs next_day 4th 6-hour cloud cover',fontsize=14, fontweight='bold')\n",
    "sns.scatterplot(x='LDAPS_CC4',y='Solar radiation',data=df,color=\"r\")\n",
    "plt.xticks(fontsize=12,fontweight ='bold')\n",
    "plt.yticks(fontsize=12,fontweight ='bold')\n",
    "plt.show()"
   ]
  },
  {
   "cell_type": "markdown",
   "metadata": {},
   "source": [
    "#### Observation: \n",
    "We can definitely say that for cloud cover greater than 0.7 high value solar radiation contributed most.\n",
    "### Precipitation VS Solar radiation"
   ]
  },
  {
   "cell_type": "code",
   "execution_count": null,
   "metadata": {},
   "outputs": [],
   "source": [
    "# Comparing Next day minimum temperature and next day average cloud cover\n",
    "\n",
    "plt.figure(figsize=(18,16))\n",
    "plt.suptitle('Solar Radiation Vs Next-day Precipitation',fontsize=20, fontweight='bold')\n",
    "\n",
    "plt.subplot(2,2,1)\n",
    "plt.title('Solar radiation Vs Next-day 1st 6-hour Precipitation',fontsize=14, fontweight='bold')\n",
    "sns.scatterplot(y='LDAPS_PPT1',x='Solar radiation',data=df,color=\"grey\")\n",
    "plt.xticks(fontsize=12,fontweight ='bold')\n",
    "plt.yticks(fontsize=12,fontweight ='bold')\n",
    "\n",
    "plt.subplot(2,2,2)\n",
    "plt.title('Solar radiation Vs next-day 2nd 6-hour Precipitation',fontsize=14, fontweight='bold')\n",
    "sns.scatterplot(y='LDAPS_PPT2',x='Solar radiation',data=df,color='brown')\n",
    "plt.xticks(fontsize=12,fontweight ='bold')\n",
    "plt.yticks(fontsize=12,fontweight ='bold')\n",
    "\n",
    "plt.subplot(2,2,3)\n",
    "plt.title('Solar radiation Vs next-day 3rd 6-hour Precipitation',fontsize=14, fontweight='bold')\n",
    "sns.scatterplot(y='LDAPS_PPT3',x='Solar radiation',data=df,color='blue')\n",
    "plt.xticks(fontsize=12,fontweight ='bold')\n",
    "plt.yticks(fontsize=12,fontweight ='bold')\n",
    "\n",
    "plt.subplot(2,2,4)\n",
    "plt.title('Solar radiation Vs next_day 4th 6-hour Precipitation',fontsize=14, fontweight='bold')\n",
    "sns.scatterplot(y='LDAPS_PPT4',x='Solar radiation',data=df,color=\"orange\")\n",
    "plt.xticks(fontsize=12,fontweight ='bold')\n",
    "plt.yticks(fontsize=12,fontweight ='bold')\n",
    "plt.show()"
   ]
  },
  {
   "cell_type": "markdown",
   "metadata": {},
   "source": [
    "#### Observation:\n",
    "- Irrespective of to which 6 hr quarter reading belong,<b> solar radiation value greater than 5500w/m2 leads to higher amount of precipitation (normally greater than 8).</b>\n",
    "- if we consider scatterplot of solar radiation vs cloud cover along with above scatter plot,<b> we can draw inference that for higher value of solar radiation cloud cover and precipitation followed each other. In other words higher precipitation means higher cloud cover.</b>\n",
    "\n",
    "\n",
    "### <b>This all give rise to few questions here :</b>\n",
    "1. Where relative humidity and wind speed fit in this equation of precipitation?\n",
    "2. Latent heat means heat absorption at constant temperature, there has to some effect of latent heat flux variation on relative humidity.\n",
    "3. Another interesting thing to look forward is wind tend to blow clound. What is wind speed value in relative terms when cloud cover is high?\n",
    "4. What is variation in precipitation,cloud cover and wind speed over year period?\n",
    "5. Variation of temperature over duration of one year period?\n",
    "\n",
    "### Lets start investigation from last question."
   ]
  },
  {
   "cell_type": "code",
   "execution_count": null,
   "metadata": {},
   "outputs": [],
   "source": [
    "plt.figure(figsize=(15,10))\n",
    "sns.barplot(x=df['Month'], y=df['LDAPS_PPT1'])"
   ]
  },
  {
   "cell_type": "code",
   "execution_count": null,
   "metadata": {},
   "outputs": [],
   "source": [
    "# Comparing Next day minimum temperature and next day average cloud cover\n",
    "\n",
    "plt.figure(figsize=(18,16))\n",
    "plt.suptitle('Temperature Vs Month',fontsize=20, fontweight='bold')\n",
    "\n",
    "plt.subplot(2,2,1)\n",
    "plt.title('Present_Tmax Vs Month',fontsize=14, fontweight='bold')\n",
    "axes=sns.lineplot(y='Present_Tmax',x='Month',data=df)\n",
    "axes.set_ylim([0, 35])\n",
    "plt.xticks(fontsize=12,fontweight ='bold')\n",
    "plt.yticks(fontsize=12,fontweight ='bold')\n",
    "\n",
    "plt.subplot(2,2,2)\n",
    "plt.title('Present_Tmin Vs Month',fontsize=14, fontweight='bold')\n",
    "axes=sns.barplot(y='Present_Tmin',x='Month',data=df)\n",
    "axes.set_ylim([0, 35])\n",
    "plt.xticks(fontsize=12,fontweight ='bold')\n",
    "plt.yticks(fontsize=12,fontweight ='bold')\n",
    "\n",
    "plt.subplot(2,2,3)\n",
    "plt.title('Next_Tmax Vs Month',fontsize=14, fontweight='bold')\n",
    "axes=sns.barplot(y='Next_Tmax',x='Month',data=df)\n",
    "axes.set_ylim([0, 35])\n",
    "plt.xticks(fontsize=12,fontweight ='bold')\n",
    "plt.yticks(fontsize=12,fontweight ='bold')\n",
    "\n",
    "plt.subplot(2,2,4)\n",
    "plt.title('Next_Tmin Vs Month',fontsize=14, fontweight='bold')\n",
    "axes=sns.barplot(y='Next_Tmin',x='Month',data=df)\n",
    "axes.set_ylim([0, 35])\n",
    "plt.xticks(fontsize=12,fontweight ='bold')\n",
    "plt.yticks(fontsize=12,fontweight ='bold')\n",
    "plt.show()"
   ]
  },
  {
   "cell_type": "code",
   "execution_count": null,
   "metadata": {},
   "outputs": [],
   "source": [
    "# Comparing Next day minimum temperature and next day average cloud cover\n",
    "\n",
    "plt.figure(figsize=(16,14))\n",
    "plt.suptitle('Next-day Precipitation Month Wise',fontsize=20, fontweight='bold')\n",
    "\n",
    "plt.subplot(2,2,1)\n",
    "plt.title('Next-day 1st 6-hour Precipitation Monthwise',fontsize=14, fontweight='bold')\n",
    "sns.barplot(x=df['Month'], y=df['LDAPS_PPT1'],data=df,color=\"grey\")\n",
    "plt.xticks(fontsize=12,fontweight ='bold')\n",
    "plt.yticks(fontsize=12,fontweight ='bold')\n",
    "\n",
    "plt.subplot(2,2,2)\n",
    "plt.title('Next-day 2nd 6-hour Precipitation Monthwise',fontsize=14, fontweight='bold')\n",
    "sns.barplot(x=df['Month'], y=df['LDAPS_PPT2'],data=df,color='brown')\n",
    "plt.xticks(fontsize=12,fontweight ='bold')\n",
    "plt.yticks(fontsize=12,fontweight ='bold')\n",
    "\n",
    "plt.subplot(2,2,3)\n",
    "plt.title('Next-day 3rd 6-hour Precipitation Monthwise',fontsize=14, fontweight='bold')\n",
    "sns.barplot(x=df['Month'], y=df['LDAPS_PPT3'],data=df,color='blue')\n",
    "plt.xticks(fontsize=12,fontweight ='bold')\n",
    "plt.yticks(fontsize=12,fontweight ='bold')\n",
    "\n",
    "plt.subplot(2,2,4)\n",
    "plt.title('Next_day 4th 6-hour Precipitation Monthwise',fontsize=14, fontweight='bold')\n",
    "sns.barplot(x=df['Month'], y=df['LDAPS_PPT4'],data=df,color=\"orange\")\n",
    "plt.xticks(fontsize=12,fontweight ='bold')\n",
    "plt.yticks(fontsize=12,fontweight ='bold')\n",
    "plt.show()"
   ]
  },
  {
   "cell_type": "markdown",
   "metadata": {},
   "source": [
    "#### Comment :\n",
    "- In 9th Month highest precipitation observe in 1st quarter of day.\n",
    "- In 1th Month highest precipitation observe in 2ed quarter of day.\n",
    "- In 11th Month highest precipitation observe in 3rd quarter of day.\n",
    "- In 6th Month highest precipitation observe in 4st quarter of day."
   ]
  },
  {
   "cell_type": "code",
   "execution_count": null,
   "metadata": {},
   "outputs": [],
   "source": [
    "plt.figure(figsize=(8,6))\n",
    "sns.histplot(df['Solar radiation'],kde=True,color='y')\n",
    "print('Minimum Solar radiation :',df['Solar radiation'].min())\n",
    "print('Maximum Solar radiation :',df['Solar radiation'].max())\n",
    "print('Average Solar radiation :',df['Solar radiation'].mean())"
   ]
  },
  {
   "cell_type": "code",
   "execution_count": null,
   "metadata": {},
   "outputs": [],
   "source": [
    "sns.set_palette('husl')\n",
    "plt.figure(figsize=(10,8))\n",
    "sns.barplot(y=df['Solar radiation'], x=df['Month'])\n",
    "plt.title('Solar radiation VS Month',fontsize=18, fontweight='bold')\n",
    "plt.show()"
   ]
  },
  {
   "cell_type": "markdown",
   "metadata": {},
   "source": [
    "#### Comment :\n",
    "- Solar Radiation data is  left skewed. \n",
    "- It has its minimum value at 4329.52 Wh/m2 and maximum values at 5992.89 Wh/m2.\n",
    "- For most of reading solar radiation values lies in the range 5600 to 5850.\n",
    "- Minimum solar radiation occur in month of 8."
   ]
  },
  {
   "cell_type": "code",
   "execution_count": null,
   "metadata": {},
   "outputs": [],
   "source": [
    "plt.figure(figsize=(8,6))\n",
    "sns.histplot(df['LDAPS_WS'],kde=True,color='limegreen')\n",
    "plt.title('Wind Speed Variation')\n",
    "print('Minimum Wind Speed :',df['LDAPS_WS'].min(),'m/s')\n",
    "print('Maximum Wind Speed :',df['LDAPS_WS'].max(),'m/s')\n",
    "print('Average Wind Speed :',df['LDAPS_WS'].mean(),'m/s')"
   ]
  },
  {
   "cell_type": "markdown",
   "metadata": {},
   "source": [
    "#### Comment :\n",
    "- It have its minimum value at 2.88m/s and maximum values at 21.85m/s \n",
    "- For most of reading values lies in the rabge 5m/s to 8m/s\n",
    "- Graph is slightly right skewed."
   ]
  },
  {
   "cell_type": "code",
   "execution_count": null,
   "metadata": {},
   "outputs": [],
   "source": [
    "plt.figure(figsize=(15,6))\n",
    "plt.subplot(1,2,1)\n",
    "sns.histplot(df['LDAPS_RHmax'],kde=True,color='r')\n",
    "plt.title('Maximum relative humidity (%)',fontsize=14, fontweight='bold')\n",
    "plt.subplot(1,2,2)\n",
    "sns.histplot(df['LDAPS_RHmin'],kde=True,color='b')\n",
    "plt.title('Minimum relative humidity (%)',fontsize=14, fontweight='bold')\n",
    "print('Minimum RHmax is {} % and Maximum RHmax is {} %'.format(df['LDAPS_RHmax'].min(),df['LDAPS_RHmax'].max()))\n",
    "print('Minimum RHmin is {} % and Maximum RHmin is {} %'.format(df['LDAPS_RHmin'].min(),df['LDAPS_RHmin'].max()))"
   ]
  },
  {
   "cell_type": "markdown",
   "metadata": {},
   "source": [
    "#### Comment :\n",
    "- Data of Maximum Relative humidity is left skewed and Data of Minimum Relative humidity is slightly right skewed.\n",
    "- Maximum Relative humidity for most of the days lie in the range 90 to 97 \n",
    "- Maximum Relative humidity lies in the range 45 to 62."
   ]
  },
  {
   "cell_type": "code",
   "execution_count": null,
   "metadata": {},
   "outputs": [],
   "source": [
    "plt.figure(figsize=(15,6))\n",
    "plt.subplot(1,2,1)\n",
    "sns.histplot(df['LDAPS_Tmax_lapse'],kde=True,color='purple')\n",
    "plt.title('Maximum Tmax applied lapse rate',fontsize=14, fontweight='bold')\n",
    "plt.subplot(1,2,2)\n",
    "sns.histplot(df['LDAPS_Tmin_lapse'],kde=True,color='green')\n",
    "plt.title('Minimum Tmin applied lapse rate',fontsize=14, fontweight='bold')\n",
    "print('Minimum Tmax applied lapse rate is {} (Â°C) and Maximum Tmax applied lapse rate is {} (Â°C)'.format(df['LDAPS_Tmax_lapse'].min(),df['LDAPS_Tmax_lapse'].max()))\n",
    "print('Minimum Tmin is applied lapse rate {} (Â°C) and Maximum Tmin applied lapse rate is {} (Â°C)'.format(df['LDAPS_Tmin_lapse'].min(),df['LDAPS_Tmin_lapse'].max()))"
   ]
  },
  {
   "cell_type": "markdown",
   "metadata": {},
   "source": [
    "#### Observation :\n",
    "- Tmax and Tmin for applied lapse rate are almost normally distributed. \n",
    "- Tmax_lapse for majority of days its values lies in the range 27 to 33 (Â°C). \n",
    "- Tmin_lapse for majority of days its values lies in the range 23 to 26 (Â°C)."
   ]
  },
  {
   "cell_type": "code",
   "execution_count": null,
   "metadata": {},
   "outputs": [],
   "source": [
    "plt.figure(figsize=(8,7))\n",
    "sns.histplot(df['LDAPS_LH'],kde=True,color='blue')\n",
    "plt.title('Next day average Latent Heat Flux',fontsize=18, fontweight='bold')\n",
    "print('Minimum Latent Heat Flux :',df['LDAPS_LH'].min())\n",
    "print('Maximum Latent Heat Flux :',df['LDAPS_LH'].max())\n",
    "print('Average Latent Heat Flux :',df['LDAPS_LH'].mean())"
   ]
  },
  {
   "cell_type": "code",
   "execution_count": null,
   "metadata": {},
   "outputs": [],
   "source": [
    "plt.figure(figsize=(8,7))\n",
    "sns.barplot(y=df['LDAPS_LH'], x=df['Month'])\n",
    "plt.title('Next day average Latent Heat Flux VS Month',fontsize=18, fontweight='bold')\n",
    "plt.show()"
   ]
  },
  {
   "cell_type": "markdown",
   "metadata": {},
   "source": [
    "**Minimum Latent Heat Flux observe in month of July.**"
   ]
  },
  {
   "cell_type": "markdown",
   "metadata": {},
   "source": [
    "# Encoding categorical data"
   ]
  },
  {
   "cell_type": "code",
   "execution_count": null,
   "metadata": {},
   "outputs": [],
   "source": [
    "# Sort columns by datatypes\n",
    "df.columns.to_series().groupby(df.dtypes).groups"
   ]
  },
  {
   "cell_type": "code",
   "execution_count": null,
   "metadata": {},
   "outputs": [],
   "source": [
    "# Using Label Encoder on categorical variable\n",
    "Category = ['State', 'City']\n",
    "from sklearn.preprocessing import LabelEncoder\n",
    "le = LabelEncoder()\n",
    "for i in Category:\n",
    "    df[i] = le.fit_transform(df[i])\n",
    "df.head()"
   ]
  },
  {
   "cell_type": "code",
   "execution_count": null,
   "metadata": {},
   "outputs": [],
   "source": [
    "# Droping unnecessary columns\n",
    "df.drop(['Date'], axis=1, inplace=True)"
   ]
  },
  {
   "cell_type": "markdown",
   "metadata": {},
   "source": [
    "# Feature selection and Engineering"
   ]
  },
  {
   "cell_type": "markdown",
   "metadata": {},
   "source": [
    "## 1. Outliers Detection and Removal"
   ]
  },
  {
   "cell_type": "code",
   "execution_count": null,
   "metadata": {},
   "outputs": [],
   "source": [
    "df.shape"
   ]
  },
  {
   "cell_type": "code",
   "execution_count": null,
   "metadata": {},
   "outputs": [],
   "source": [
    "plt.figure(figsize=(20,45),facecolor='white')\n",
    "plotnumber=1\n",
    "\n",
    "for column in df:\n",
    "    if plotnumber<=29:\n",
    "        ax=plt.subplot(10,3,plotnumber)\n",
    "        sns.boxplot(df[column],color='g')\n",
    "        plt.xlabel(column,fontsize=20)\n",
    "    plotnumber+=1\n",
    "plt.tight_layout()\n",
    "plt.show()"
   ]
  },
  {
   "cell_type": "markdown",
   "metadata": {},
   "source": [
    "<b> From Boxplot we can see outliers exist dataset.</b>"
   ]
  },
  {
   "cell_type": "markdown",
   "metadata": {},
   "source": [
    "### Outliers removal using Zscore method"
   ]
  },
  {
   "cell_type": "code",
   "execution_count": null,
   "metadata": {},
   "outputs": [],
   "source": [
    "from scipy.stats import zscore\n",
    "z = np.abs(zscore(df))\n",
    "threshold = 3\n",
    "df1 = df[(z<3).all(axis = 1)]\n",
    "\n",
    "print (\"Shape of the dataframe before removing outliers: \", df.shape)\n",
    "print (\"Shape of the dataframe after removing outliers: \", df1.shape)\n",
    "print (\"Percentage of data loss post outlier removal: \", (df.shape[0]-df1.shape[0])/df.shape[0]*100)\n",
    "\n",
    "df=df1.copy() # reassigning the changed dataframe name to our original dataframe name"
   ]
  },
  {
   "cell_type": "markdown",
   "metadata": {},
   "source": [
    "We are losing 11.18 % of data. Its big but we can afford it. Considering we have a lot of rows in our datatset for ML model building. "
   ]
  },
  {
   "cell_type": "markdown",
   "metadata": {},
   "source": [
    "## 2. Skewness of features"
   ]
  },
  {
   "cell_type": "code",
   "execution_count": null,
   "metadata": {},
   "outputs": [],
   "source": [
    "plt.figure(figsize=(20,40),facecolor='white')\n",
    "sns.set_palette('rainbow')\n",
    "plotnum=1\n",
    "for col in df:\n",
    "    if plotnum<=29:\n",
    "        plt.subplot(10,3,plotnum)\n",
    "        sns.distplot(df[col])\n",
    "        plt.xlabel(col,fontsize=20)\n",
    "    plotnum+=1\n",
    "plt.show()"
   ]
  },
  {
   "cell_type": "markdown",
   "metadata": {},
   "source": [
    "**Skewness is important feature for continous data. There is no relevence of skweness for discrete numerical feature like month and categorical feature.So we gone ignore skewness present in discrete numerical and categorical feature.**"
   ]
  },
  {
   "cell_type": "markdown",
   "metadata": {},
   "source": [
    "**We also going to ignore sknewness in target feature.**"
   ]
  },
  {
   "cell_type": "code",
   "execution_count": null,
   "metadata": {},
   "outputs": [],
   "source": [
    "df.skew()"
   ]
  },
  {
   "cell_type": "markdown",
   "metadata": {},
   "source": [
    "**Here some are positively skewed while others are negatively skewed. We gone use yeo-johnson method for transfromation.**"
   ]
  },
  {
   "cell_type": "code",
   "execution_count": null,
   "metadata": {},
   "outputs": [],
   "source": [
    "# Making the skew less than or equal to +0.5 and -0.5 for better prediction using yeo-johnson method\n",
    "skew=['LDAPS_RHmax','LDAPS_Tmin_lapse','LDAPS_WS','LDAPS_LH','LDAPS_CC3','LDAPS_CC4',\n",
    "      'LDAPS_PPT1','LDAPS_PPT2','LDAPS_PPT3','LDAPS_PPT4','DEM','Slope','Solar radiation','Month']\n",
    "\n",
    "# Importing Powertransformer\n",
    "from sklearn.preprocessing import PowerTransformer\n",
    "scaler = PowerTransformer(method='yeo-johnson')\n",
    "\n",
    "# Transfroming skew data\n",
    "df[skew] = scaler.fit_transform(df[skew].values)"
   ]
  },
  {
   "cell_type": "markdown",
   "metadata": {},
   "source": [
    "**For LDAPS_PPT1,LDAPS_PPT2,LDAPS_PPT3 and LDAPS_PPT4 skewness has not been removed but it got reduced**"
   ]
  },
  {
   "cell_type": "markdown",
   "metadata": {},
   "source": [
    "## 3. Corrleation "
   ]
  },
  {
   "cell_type": "code",
   "execution_count": null,
   "metadata": {},
   "outputs": [],
   "source": [
    "df.corr()"
   ]
  },
  {
   "cell_type": "code",
   "execution_count": null,
   "metadata": {},
   "outputs": [],
   "source": [
    "plt.figure(figsize=(25,15))\n",
    "sns.heatmap(df.corr(), vmin=-1, vmax=1, annot=True, square=True, fmt='0.3f', \n",
    "            annot_kws={'size':10}, cmap=\"gist_stern\")\n",
    "plt.xticks(fontsize=12)\n",
    "plt.yticks(fontsize=12)\n",
    "plt.show()"
   ]
  },
  {
   "cell_type": "code",
   "execution_count": null,
   "metadata": {},
   "outputs": [],
   "source": [
    "plt.figure(figsize = (18,6))\n",
    "df.corr()['Next_Tmax'].drop(['Next_Tmax']).sort_values(ascending=False).plot(kind='bar',color = 'purple')\n",
    "plt.xlabel('Features',fontsize=15,fontweight='bold')\n",
    "plt.ylabel('Next_Tmax',fontsize=15,fontweight='bold')\n",
    "plt.title('Correlation of features with Target Variable Next_Tmax',fontsize = 20,fontweight='bold')\n",
    "plt.show()"
   ]
  },
  {
   "cell_type": "markdown",
   "metadata": {},
   "source": [
    "**Temperature and cloud cover related feature are moderately or highly correlated with Target Feature.**"
   ]
  },
  {
   "cell_type": "code",
   "execution_count": null,
   "metadata": {},
   "outputs": [],
   "source": [
    "plt.figure(figsize = (18,6))\n",
    "df.corr()['Next_Tmin'].drop(['Next_Tmin']).sort_values(ascending=False).plot(kind='bar',color = 'purple')\n",
    "plt.xlabel('Features',fontsize=15,fontweight='bold')\n",
    "plt.ylabel('Next_Tmin',fontsize=15,fontweight='bold')\n",
    "plt.title('Correlation of features with Target Variable Next_Tmin',fontsize = 20,fontweight='bold')\n",
    "plt.show()"
   ]
  },
  {
   "cell_type": "markdown",
   "metadata": {},
   "source": [
    "**Temperature related feature are moderately or highly correlated with Target Feature.**"
   ]
  },
  {
   "cell_type": "markdown",
   "metadata": {},
   "source": [
    "# Machine Learning Model Building For Next_Tmax"
   ]
  },
  {
   "cell_type": "markdown",
   "metadata": {},
   "source": [
    "## Standard Scaling"
   ]
  },
  {
   "cell_type": "code",
   "execution_count": null,
   "metadata": {},
   "outputs": [],
   "source": [
    "# Splitting data in target and dependent feature\n",
    "X = df.drop(['Next_Tmax'], axis =1)\n",
    "Y = df['Next_Tmax']"
   ]
  },
  {
   "cell_type": "code",
   "execution_count": null,
   "metadata": {},
   "outputs": [],
   "source": [
    "from sklearn.preprocessing import StandardScaler\n",
    "scaler= StandardScaler()\n",
    "X_scale = scaler.fit_transform(X)"
   ]
  },
  {
   "cell_type": "markdown",
   "metadata": {},
   "source": [
    "## Checking Multicollinearity between features using variance_inflation_factor"
   ]
  },
  {
   "cell_type": "code",
   "execution_count": null,
   "metadata": {},
   "outputs": [],
   "source": [
    "from statsmodels.stats.outliers_influence import variance_inflation_factor\n",
    "vif = pd.DataFrame()\n",
    "vif[\"VIF values\"] = [variance_inflation_factor(X_scale,i) for i in range(len(X.columns))]\n",
    "vif[\"Features\"] = X.columns\n",
    "vif"
   ]
  },
  {
   "cell_type": "markdown",
   "metadata": {},
   "source": [
    "**Independent feature VIF is within permissible limit of 10**"
   ]
  },
  {
   "cell_type": "markdown",
   "metadata": {},
   "source": [
    "## PCA"
   ]
  },
  {
   "cell_type": "code",
   "execution_count": null,
   "metadata": {},
   "outputs": [],
   "source": [
    "from sklearn.decomposition import PCA\n",
    "pca = PCA()\n",
    "#plot the graph to find the principal components\n",
    "x_pca = pca.fit_transform(X_scale)\n",
    "plt.figure(figsize=(10,10))\n",
    "plt.plot(np.cumsum(pca.explained_variance_ratio_), 'ro-')\n",
    "plt.xlabel('Number of Components')\n",
    "plt.ylabel('Variance %')\n",
    "plt.title('Explained variance Ratio')\n",
    "plt.grid()"
   ]
  },
  {
   "cell_type": "markdown",
   "metadata": {},
   "source": [
    "#### Comment -\n",
    "<b> AS per the graph, we can see that 15 principal components attribute for 90% of variation in the data.  We shall pick the first 15 components for our prediction. </b>"
   ]
  },
  {
   "cell_type": "code",
   "execution_count": null,
   "metadata": {},
   "outputs": [],
   "source": [
    "pca_new = PCA(n_components=15)\n",
    "x_new = pca_new.fit_transform(X_scale)"
   ]
  },
  {
   "cell_type": "code",
   "execution_count": null,
   "metadata": {},
   "outputs": [],
   "source": [
    "principle_x=pd.DataFrame(x_new,columns=np.arange(15))"
   ]
  },
  {
   "cell_type": "code",
   "execution_count": null,
   "metadata": {},
   "outputs": [],
   "source": [
    "from sklearn.linear_model import LinearRegression\n",
    "from sklearn.linear_model import LogisticRegression\n",
    "from sklearn.ensemble import RandomForestRegressor\n",
    "from sklearn.tree import DecisionTreeRegressor\n",
    "import xgboost as xgb\n",
    "from sklearn.ensemble import ExtraTreesRegressor\n",
    "from sklearn.svm import SVR\n",
    "from sklearn.ensemble import AdaBoostRegressor\n",
    "from sklearn.ensemble import  GradientBoostingRegressor\n",
    "from sklearn.neighbors import KNeighborsRegressor\n",
    "from sklearn.metrics import mean_squared_error, mean_absolute_error\n",
    "from sklearn.metrics import r2_score\n",
    "from sklearn.model_selection import train_test_split\n",
    "from sklearn.linear_model import  Ridge\n",
    "from sklearn.linear_model import  Lasso\n",
    "from xgboost import XGBRegressor"
   ]
  },
  {
   "cell_type": "code",
   "execution_count": null,
   "metadata": {},
   "outputs": [],
   "source": [
    "X_train, X_test, Y_train, Y_test = train_test_split(principle_x, Y, random_state=42, test_size=.33)\n",
    "print('Training feature matrix size:',X_train.shape)\n",
    "print('Training target vector size:',Y_train.shape)\n",
    "print('Test feature matrix size:',X_test.shape)\n",
    "print('Test target vector size:',Y_test.shape)"
   ]
  },
  {
   "cell_type": "markdown",
   "metadata": {},
   "source": [
    "### Finding best Random state"
   ]
  },
  {
   "cell_type": "code",
   "execution_count": null,
   "metadata": {},
   "outputs": [],
   "source": [
    "from sklearn.linear_model import LinearRegression\n",
    "from sklearn.metrics import r2_score\n",
    "maxR2_score=0\n",
    "maxRS=0\n",
    "for i in range(1,500):\n",
    "    X_train, X_test, Y_train, Y_test = train_test_split(X_scale, Y, random_state=i, test_size=.33)\n",
    "    lin_reg=LinearRegression()\n",
    "    lin_reg.fit(X_train,Y_train)\n",
    "    y_pred=lin_reg.predict(X_test)\n",
    "    R2=r2_score(Y_test,y_pred)\n",
    "    if R2>maxR2_score:\n",
    "        maxR2_score=R2\n",
    "        maxRS=i\n",
    "print('Best R2 Score is', maxR2_score ,'on Random_state', maxRS)"
   ]
  },
  {
   "cell_type": "markdown",
   "metadata": {},
   "source": [
    "## Linear Regression Base Model"
   ]
  },
  {
   "cell_type": "code",
   "execution_count": null,
   "metadata": {},
   "outputs": [],
   "source": [
    "X_train, X_test, Y_train, Y_test = train_test_split(X_scale, Y, random_state=108, test_size=.33)\n",
    "lin_reg=LinearRegression()\n",
    "lin_reg.fit(X_train,Y_train)\n",
    "lin_reg.score(X_train,Y_train)\n",
    "y_pred=lin_reg.predict(X_test)\n",
    "print('\\033[1m'+'Predicted Wins:'+'\\033[0m\\n',y_pred)\n",
    "print('\\n')\n",
    "print('\\033[1m'+'Actual Wins:'+'\\033[0m\\n',Y_test)"
   ]
  },
  {
   "cell_type": "code",
   "execution_count": null,
   "metadata": {},
   "outputs": [],
   "source": [
    "print('\\033[1m'+' Error :'+'\\033[0m')\n",
    "print('Mean absolute error :', mean_absolute_error(Y_test,y_pred))\n",
    "print('Mean squared error :', mean_squared_error(Y_test,y_pred))\n",
    "print('Root Mean Squared Error:', np.sqrt(mean_squared_error(Y_test,y_pred)))\n",
    "print('\\n')\n",
    "from sklearn.metrics import r2_score\n",
    "print('\\033[1m'+' R2 Score :'+'\\033[0m')\n",
    "print(r2_score(Y_test,y_pred,multioutput='variance_weighted'))"
   ]
  },
  {
   "cell_type": "code",
   "execution_count": null,
   "metadata": {
    "scrolled": true
   },
   "outputs": [],
   "source": [
    "# Cross Validation\n",
    "from sklearn.model_selection import cross_val_score\n",
    "score = cross_val_score(lin_reg, X_scale, Y, cv =3)\n",
    "print('\\033[1m'+'Cross Validation Score :',lin_reg,\":\"+'\\033[0m\\n')\n",
    "print(\"Mean CV Score :\",score.mean())"
   ]
  },
  {
   "cell_type": "markdown",
   "metadata": {},
   "source": [
    "### Applying other ML Models"
   ]
  },
  {
   "cell_type": "code",
   "execution_count": null,
   "metadata": {},
   "outputs": [],
   "source": [
    "from sklearn.ensemble import BaggingRegressor"
   ]
  },
  {
   "cell_type": "code",
   "execution_count": null,
   "metadata": {},
   "outputs": [],
   "source": [
    "rf = RandomForestRegressor()\n",
    "dtc = DecisionTreeRegressor()\n",
    "XT = ExtraTreesRegressor()\n",
    "BR = BaggingRegressor()\n",
    "adb=AdaBoostRegressor()\n",
    "gradb=GradientBoostingRegressor()\n",
    "xgb=XGBRegressor()\n",
    "model = [rf,XT,dtc,adb,gradb,xgb]\n",
    "\n",
    "for m in model:\n",
    "    m.fit(X_train,Y_train)\n",
    "    m.score(X_train,Y_train)\n",
    "    y_pred = m.predict(X_test)\n",
    "    print('\\n')                                        \n",
    "    print('\\033[1m'+' Error of ', m, ':' +'\\033[0m')\n",
    "    print('Mean absolute error :', mean_absolute_error(Y_test,y_pred))\n",
    "    print('Mean squared error :', mean_squared_error(Y_test,y_pred))\n",
    "    print('Root Mean Squared Error:', np.sqrt(mean_squared_error(Y_test,y_pred)))\n",
    "    print('\\n')\n",
    "\n",
    "    print('\\033[1m'+' R2 Score :'+'\\033[0m')\n",
    "    print(r2_score(Y_test,y_pred)) \n",
    "    print('==============================================================================================================')"
   ]
  },
  {
   "cell_type": "code",
   "execution_count": null,
   "metadata": {},
   "outputs": [],
   "source": [
    "# Cross Validation\n",
    "model = [rf,XT,dtc,adb,gradb,xgb]\n",
    "\n",
    "for m in model:\n",
    "    score = cross_val_score(m, X_scale, Y, cv =5)\n",
    "    print('\\n')\n",
    "    print('\\033[1m'+'Cross Validation Score :',m,\":\"+'\\033[0m\\n')\n",
    "    print(\"Mean CV Score :\",score.mean())\n",
    "    print('==============================================================================================================')"
   ]
  },
  {
   "cell_type": "code",
   "execution_count": null,
   "metadata": {},
   "outputs": [],
   "source": []
  },
  {
   "cell_type": "markdown",
   "metadata": {},
   "source": [
    "# Hyper Parameter Tuning : GridSearchCV"
   ]
  },
  {
   "cell_type": "code",
   "execution_count": null,
   "metadata": {},
   "outputs": [],
   "source": [
    "from sklearn.model_selection import GridSearchCV"
   ]
  },
  {
   "cell_type": "code",
   "execution_count": null,
   "metadata": {},
   "outputs": [],
   "source": [
    "parameter = {'n_estimators':[200,400,500,600],'gamma':np.arange(0,0.2,0.1),\n",
    "              'booster' : ['gbtree','dart','gblinear'], 'max_depth':[4,6,8,10],\n",
    "              'eta' : [0.001, 0.01, 0.1] }"
   ]
  },
  {
   "cell_type": "code",
   "execution_count": null,
   "metadata": {},
   "outputs": [],
   "source": [
    "GCV = GridSearchCV(XGBRegressor(),parameter,verbose =10)"
   ]
  },
  {
   "cell_type": "code",
   "execution_count": null,
   "metadata": {},
   "outputs": [],
   "source": [
    "GCV.fit(X_train,Y_train)"
   ]
  },
  {
   "cell_type": "code",
   "execution_count": null,
   "metadata": {},
   "outputs": [],
   "source": [
    "GCV.best_params_"
   ]
  },
  {
   "cell_type": "markdown",
   "metadata": {},
   "source": [
    "## Final Regression Model"
   ]
  },
  {
   "cell_type": "code",
   "execution_count": null,
   "metadata": {},
   "outputs": [],
   "source": [
    "Final_mod =  XGBRegressor(n_estimators=100 , booster= 'dart', eta= 0.1, max_depth= 10, gamma= 0.0 )\n",
    "Final_mod.fit(X_train,Y_train)\n",
    "y_pred=Final_mod.predict(X_test)\n",
    "print('\\n')                                        \n",
    "print('\\033[1m'+' Error in Final Model :' +'\\033[0m')\n",
    "print('Mean absolute error :', mean_absolute_error(Y_test,y_pred))\n",
    "print('Mean squared error :', mean_squared_error(Y_test,y_pred))\n",
    "print('Root Mean Squared Error:', np.sqrt(mean_squared_error(Y_test,y_pred)))\n",
    "print('\\n')\n",
    "print('\\033[1m'+' R2 Score of Final Model :'+'\\033[0m')\n",
    "print(r2_score(Y_test,y_pred)) \n",
    "print('\\n')"
   ]
  },
  {
   "cell_type": "code",
   "execution_count": null,
   "metadata": {},
   "outputs": [],
   "source": [
    "plt.figure(figsize=(20,9))\n",
    "y_pred=Final_mod.predict(X_test)\n",
    "sns.swarmplot(Y_test.round(2), y_pred)\n",
    "print('\\033[1m'+' True Values Vs Predicted Value plot :' +'\\033[0m')\n",
    "plt.xlabel('True Values' , fontsize=15)\n",
    "plt.ylabel('Predictions', fontsize=15)\n",
    "plt.tight_layout()"
   ]
  },
  {
   "cell_type": "markdown",
   "metadata": {},
   "source": [
    "## Final Regression Saving Model"
   ]
  },
  {
   "cell_type": "code",
   "execution_count": null,
   "metadata": {},
   "outputs": [],
   "source": [
    "import joblib\n",
    "joblib.dump(Final_mod,'Next_Tmax_Forecast_Final.pkl')"
   ]
  },
  {
   "cell_type": "markdown",
   "metadata": {},
   "source": [
    "### Prediction According Final Regression Model"
   ]
  },
  {
   "cell_type": "code",
   "execution_count": null,
   "metadata": {},
   "outputs": [],
   "source": [
    "# Loading the saved model\n",
    "Model = joblib.load(\"Next_Tmax_Forecast_Final.pkl\")\n",
    "\n",
    "# prediction  DataFrame\n",
    "actual = np.array(Y_test)\n",
    "predicted = np.array(Model.predict(X_test))\n",
    "df_Predicted = pd.DataFrame({\"Actual Values\":actual,\"Predicted Values\":predicted},index= range(len(actual)))\n",
    "df_Predicted "
   ]
  },
  {
   "cell_type": "markdown",
   "metadata": {},
   "source": [
    "# Machine Learning Model Building For Next_Tmin"
   ]
  },
  {
   "cell_type": "markdown",
   "metadata": {},
   "source": [
    "## Standard Scaling"
   ]
  },
  {
   "cell_type": "code",
   "execution_count": null,
   "metadata": {},
   "outputs": [],
   "source": [
    "# Splitting data in target and dependent feature\n",
    "X = df.drop(['Next_Tmin'], axis =1)\n",
    "Y = df['Next_Tmin']"
   ]
  },
  {
   "cell_type": "code",
   "execution_count": null,
   "metadata": {},
   "outputs": [],
   "source": [
    "from sklearn.preprocessing import StandardScaler\n",
    "scaler= StandardScaler()\n",
    "X_scale = scaler.fit_transform(X)"
   ]
  },
  {
   "cell_type": "code",
   "execution_count": null,
   "metadata": {},
   "outputs": [],
   "source": [
    "X_train, X_test, Y_train, Y_test = train_test_split(X_scale, Y, random_state=42, test_size=.33)\n",
    "print('Training feature matrix size:',X_train.shape)\n",
    "print('Training target vector size:',Y_train.shape)\n",
    "print('Test feature matrix size:',X_test.shape)\n",
    "print('Test target vector size:',Y_test.shape)"
   ]
  },
  {
   "cell_type": "markdown",
   "metadata": {},
   "source": [
    "### Finding best Random state"
   ]
  },
  {
   "cell_type": "code",
   "execution_count": null,
   "metadata": {},
   "outputs": [],
   "source": [
    "from sklearn.linear_model import LinearRegression\n",
    "from sklearn.metrics import r2_score\n",
    "maxR2_score=0\n",
    "maxRS=0\n",
    "for i in range(1,500):\n",
    "    X_train, X_test, Y_train, Y_test = train_test_split(X_scale, Y, random_state=i, test_size=.33)\n",
    "    lin_reg=LinearRegression()\n",
    "    lin_reg.fit(X_train,Y_train)\n",
    "    y_pred=lin_reg.predict(X_test)\n",
    "    R2=r2_score(Y_test,y_pred)\n",
    "    if R2>maxR2_score:\n",
    "        maxR2_score=R2\n",
    "        maxRS=i\n",
    "print('Best R2 Score is', maxR2_score ,'on Random_state', maxRS)"
   ]
  },
  {
   "cell_type": "markdown",
   "metadata": {},
   "source": [
    "## Linear Regression Base Model"
   ]
  },
  {
   "cell_type": "code",
   "execution_count": null,
   "metadata": {},
   "outputs": [],
   "source": [
    "X_train, X_test, Y_train, Y_test = train_test_split(X_scale, Y, random_state=43, test_size=.33)\n",
    "lin_reg=LinearRegression()\n",
    "lin_reg.fit(X_train,Y_train)\n",
    "lin_reg.score(X_train,Y_train)\n",
    "y_pred=lin_reg.predict(X_test)\n",
    "print('\\033[1m'+'Predicted Wins:'+'\\033[0m\\n',y_pred)\n",
    "print('\\n')\n",
    "print('\\033[1m'+'Actual Wins:'+'\\033[0m\\n',Y_test)"
   ]
  },
  {
   "cell_type": "markdown",
   "metadata": {},
   "source": [
    "### Linear Regression Evaluation Matrix"
   ]
  },
  {
   "cell_type": "code",
   "execution_count": null,
   "metadata": {},
   "outputs": [],
   "source": [
    "print('\\033[1m'+' Error :'+'\\033[0m')\n",
    "print('Mean absolute error :', mean_absolute_error(Y_test,y_pred))\n",
    "print('Mean squared error :', mean_squared_error(Y_test,y_pred))\n",
    "print('Root Mean Squared Error:', np.sqrt(mean_squared_error(Y_test,y_pred)))\n",
    "print('\\n')\n",
    "from sklearn.metrics import r2_score\n",
    "print('\\033[1m'+' R2 Score :'+'\\033[0m')\n",
    "print(r2_score(Y_test,y_pred,multioutput='variance_weighted'))"
   ]
  },
  {
   "cell_type": "code",
   "execution_count": null,
   "metadata": {},
   "outputs": [],
   "source": [
    "# Cross Validation\n",
    "from sklearn.model_selection import cross_val_score\n",
    "score = cross_val_score(lin_reg, X_scale, Y, cv =3)\n",
    "print('\\033[1m'+'Cross Validation Score :',lin_reg,\":\"+'\\033[0m\\n')\n",
    "print(\"Mean CV Score :\",score.mean())"
   ]
  },
  {
   "cell_type": "markdown",
   "metadata": {},
   "source": [
    "### Applying other ML Models"
   ]
  },
  {
   "cell_type": "code",
   "execution_count": null,
   "metadata": {},
   "outputs": [],
   "source": [
    "rf = RandomForestRegressor()\n",
    "dtc = DecisionTreeRegressor()\n",
    "XT = ExtraTreesRegressor()\n",
    "BR = BaggingRegressor()\n",
    "adb=AdaBoostRegressor()\n",
    "gradb=GradientBoostingRegressor()\n",
    "xgb=XGBRegressor()\n",
    "model = [rf,XT,dtc,adb,gradb,xgb]\n",
    "\n",
    "for m in model:\n",
    "    m.fit(X_train,Y_train)\n",
    "    m.score(X_train,Y_train)\n",
    "    y_pred = m.predict(X_test)\n",
    "    print('\\n')                                        \n",
    "    print('\\033[1m'+' Error of ', m, ':' +'\\033[0m')\n",
    "    print('Mean absolute error :', mean_absolute_error(Y_test,y_pred))\n",
    "    print('Mean squared error :', mean_squared_error(Y_test,y_pred))\n",
    "    print('Root Mean Squared Error:', np.sqrt(mean_squared_error(Y_test,y_pred)))\n",
    "    print('\\n')\n",
    "\n",
    "    print('\\033[1m'+' R2 Score :'+'\\033[0m')\n",
    "    print(r2_score(Y_test,y_pred)) \n",
    "    print('==============================================================================================================')"
   ]
  },
  {
   "cell_type": "code",
   "execution_count": null,
   "metadata": {},
   "outputs": [],
   "source": [
    "# Cross Validation\n",
    "model = [rf,XT,dtc,adb,gradb,xgb]\n",
    "\n",
    "for m in model:\n",
    "    score = cross_val_score(m, X_scale, Y, cv =5)\n",
    "    print('\\n')\n",
    "    print('\\033[1m'+'Cross Validation Score :',m,\":\"+'\\033[0m\\n')\n",
    "    print(\"Mean CV Score :\",score.mean())\n",
    "    print('==============================================================================================================')"
   ]
  },
  {
   "cell_type": "markdown",
   "metadata": {},
   "source": [
    "# Hyper Parameter Tuning : GridSearchCV"
   ]
  },
  {
   "cell_type": "code",
   "execution_count": null,
   "metadata": {},
   "outputs": [],
   "source": [
    "from sklearn.model_selection import GridSearchCV"
   ]
  },
  {
   "cell_type": "code",
   "execution_count": null,
   "metadata": {},
   "outputs": [],
   "source": [
    "parameter = {'n_estimators':[50,75,100],'gamma':np.arange(0,0.2,0.1),\n",
    "              'booster' : ['gbtree','dart','gblinear'], 'max_depth':[4,6,8,10],\n",
    "              'eta' : [0.001, 0.01, 0.1] }"
   ]
  },
  {
   "cell_type": "code",
   "execution_count": null,
   "metadata": {},
   "outputs": [],
   "source": [
    "GCV = GridSearchCV(XGBRegressor(),parameter,verbose =10)\n",
    "GCV.fit(X_train,Y_train)"
   ]
  },
  {
   "cell_type": "code",
   "execution_count": null,
   "metadata": {},
   "outputs": [],
   "source": [
    "GCV.best_params_"
   ]
  },
  {
   "cell_type": "markdown",
   "metadata": {},
   "source": [
    "## Final Regression Model For Next_Tmin"
   ]
  },
  {
   "cell_type": "code",
   "execution_count": null,
   "metadata": {},
   "outputs": [],
   "source": [
    "Final_mod =  XGBRegressor(n_estimators=100 , booster= 'dart', eta= 0.1, max_depth= 8, gamma= 0.0 )\n",
    "Final_mod.fit(X_train,Y_train)\n",
    "y_pred=Final_mod.predict(X_test)\n",
    "print('\\n')                                        \n",
    "print('\\033[1m'+' Error in Final Model :' +'\\033[0m')\n",
    "print('Mean absolute error :', mean_absolute_error(Y_test,y_pred))\n",
    "print('Mean squared error :', mean_squared_error(Y_test,y_pred))\n",
    "print('Root Mean Squared Error:', np.sqrt(mean_squared_error(Y_test,y_pred)))\n",
    "print('\\n')\n",
    "print('\\033[1m'+' R2 Score of Final Model :'+'\\033[0m')\n",
    "print(r2_score(Y_test,y_pred)) \n",
    "print('\\n')"
   ]
  },
  {
   "cell_type": "code",
   "execution_count": null,
   "metadata": {},
   "outputs": [],
   "source": [
    "plt.figure(figsize=(12,7))\n",
    "y_pred=Final_mod.predict(X_test)\n",
    "sns.swarmplot(Y_test.round(2), y_pred)\n",
    "print('\\033[1m'+' True Values Vs Predicted Value plot :' +'\\033[0m')\n",
    "plt.xlabel('True Values' , fontsize=15)\n",
    "plt.ylabel('Predictions', fontsize=15)\n",
    "plt.tight_layout()"
   ]
  },
  {
   "cell_type": "markdown",
   "metadata": {},
   "source": [
    "## Saving  Final Regression Model For Next_Tmin"
   ]
  },
  {
   "cell_type": "code",
   "execution_count": null,
   "metadata": {},
   "outputs": [],
   "source": [
    "import joblib\n",
    "joblib.dump(Final_mod,'Next_Tmin_Forecast_Final.pkl')"
   ]
  },
  {
   "cell_type": "markdown",
   "metadata": {},
   "source": [
    "### Prediction According Final Regression Model For Next_Tmin"
   ]
  },
  {
   "cell_type": "code",
   "execution_count": null,
   "metadata": {},
   "outputs": [],
   "source": [
    "# Loading the saved model\n",
    "Model = joblib.load(\"Next_Tmin_Forecast_Final.pkl\")\n",
    "\n",
    "# prediction  DataFrame\n",
    "actual = np.array(Y_test)\n",
    "predicted = np.array(Model.predict(X_test))\n",
    "df_Predicted = pd.DataFrame({\"Actual Values\":actual,\"Predicted Values\":predicted},index= range(len(actual)))\n",
    "df_Predicted "
   ]
  }
 ],
 "metadata": {
  "kernelspec": {
   "display_name": "Python 3",
   "language": "python",
   "name": "python3"
  },
  "language_info": {
   "codemirror_mode": {
    "name": "ipython",
    "version": 3
   },
   "file_extension": ".py",
   "mimetype": "text/x-python",
   "name": "python",
   "nbconvert_exporter": "python",
   "pygments_lexer": "ipython3",
   "version": "3.11.5"
  }
 },
 "nbformat": 4,
 "nbformat_minor": 4
}
